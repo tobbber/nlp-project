{
  "cells": [
    {
      "cell_type": "markdown",
      "metadata": {
        "id": "knFzO2Y0e6Kf"
      },
      "source": [
        "## Libraries"
      ]
    },
    {
      "cell_type": "code",
      "execution_count": 2,
      "metadata": {
        "colab": {
          "base_uri": "https://localhost:8080/"
        },
        "id": "DwPgpl0d7OT3",
        "outputId": "b90c4aec-25a5-4e62-e1ab-7f18f86795d9"
      },
      "outputs": [
        {
          "output_type": "stream",
          "name": "stdout",
          "text": [
            "Looking in indexes: https://pypi.org/simple, https://us-python.pkg.dev/colab-wheels/public/simple/\n",
            "Collecting contractions\n",
            "  Downloading contractions-0.1.72-py2.py3-none-any.whl (8.3 kB)\n",
            "Collecting textsearch>=0.0.21\n",
            "  Downloading textsearch-0.0.21-py2.py3-none-any.whl (7.5 kB)\n",
            "Collecting pyahocorasick\n",
            "  Downloading pyahocorasick-1.4.4-cp37-cp37m-manylinux_2_17_x86_64.manylinux2014_x86_64.whl (106 kB)\n",
            "\u001b[K     |████████████████████████████████| 106 kB 3.6 MB/s \n",
            "\u001b[?25hCollecting anyascii\n",
            "  Downloading anyascii-0.3.1-py3-none-any.whl (287 kB)\n",
            "\u001b[K     |████████████████████████████████| 287 kB 41.0 MB/s \n",
            "\u001b[?25hInstalling collected packages: pyahocorasick, anyascii, textsearch, contractions\n",
            "Successfully installed anyascii-0.3.1 contractions-0.1.72 pyahocorasick-1.4.4 textsearch-0.0.21\n",
            "Looking in indexes: https://pypi.org/simple, https://us-python.pkg.dev/colab-wheels/public/simple/\n",
            "Collecting glove-python-binary\n",
            "  Downloading glove_python_binary-0.2.0-cp37-cp37m-manylinux1_x86_64.whl (948 kB)\n",
            "\u001b[K     |████████████████████████████████| 948 kB 8.3 MB/s \n",
            "\u001b[?25hRequirement already satisfied: numpy in /usr/local/lib/python3.7/dist-packages (from glove-python-binary) (1.21.6)\n",
            "Requirement already satisfied: scipy in /usr/local/lib/python3.7/dist-packages (from glove-python-binary) (1.7.3)\n",
            "Installing collected packages: glove-python-binary\n",
            "Successfully installed glove-python-binary-0.2.0\n"
          ]
        }
      ],
      "source": [
        "!pip install contractions\n",
        "!pip install glove-python-binary"
      ]
    },
    {
      "cell_type": "code",
      "execution_count": 5,
      "metadata": {
        "colab": {
          "base_uri": "https://localhost:8080/"
        },
        "id": "Sq7g1_rB_4AH",
        "outputId": "c793a855-9bb5-4365-af46-d018240415a6"
      },
      "outputs": [
        {
          "output_type": "stream",
          "name": "stderr",
          "text": [
            "[nltk_data] Downloading package punkt to /root/nltk_data...\n",
            "[nltk_data]   Package punkt is already up-to-date!\n"
          ]
        }
      ],
      "source": [
        "import pandas as pd\n",
        "import matplotlib.pyplot as plt\n",
        "import pprint\n",
        "from collections import Counter\n",
        "import nltk\n",
        "nltk.download('punkt')\n",
        "from nltk.tokenize import sent_tokenize, word_tokenize\n",
        "import torchtext\n",
        "import contractions\n",
        "import numpy as np\n",
        "import re\n",
        "import torch\n",
        "import torch.nn as nn\n",
        "import torch.optim as optim\n",
        "import multiprocessing\n",
        "from gensim.models import Word2Vec\n",
        "from torch.utils.data import DataLoader, Dataset\n",
        "from sklearn.model_selection import train_test_split\n",
        "from torch.nn.utils.rnn import pad_sequence\n",
        "\n",
        "from torch.utils.data import Dataset\n",
        "\n",
        "from pathlib import Path\n",
        "import shutil\n",
        "import requests"
      ]
    },
    {
      "cell_type": "code",
      "source": [
        "try: \n",
        "    from google.colab import drive\n",
        "    drive.mount('/content/drive')\n",
        "    project_dir = Path('/content/drive/MyDrive/NLP_project_2/')    \n",
        "except ModuleNotFoundError: # running on local machine\n",
        "    project_dir = Path.cwd()\n",
        "\n",
        "print(f'using project directory: \"{project_dir}\"')"
      ],
      "metadata": {
        "colab": {
          "base_uri": "https://localhost:8080/"
        },
        "id": "gL9oWD5LuyIG",
        "outputId": "0f982fcd-bcf0-4640-d578-2bab0a2ad97f"
      },
      "execution_count": 6,
      "outputs": [
        {
          "output_type": "stream",
          "name": "stdout",
          "text": [
            "Drive already mounted at /content/drive; to attempt to forcibly remount, call drive.mount(\"/content/drive\", force_remount=True).\n",
            "using project directory: \"/content/drive/MyDrive/NLP_project_2\"\n"
          ]
        }
      ]
    },
    {
      "cell_type": "markdown",
      "metadata": {
        "id": "5Xj_6At1GMt5"
      },
      "source": [
        "# Import Data"
      ]
    },
    {
      "cell_type": "code",
      "source": [
        "source_url= \"https://www.statmt.org/europarl/v7/it-en.tgz\"\n",
        "# download tar file\n",
        "archive_file = torchtext.utils.download_from_url(source_url, root=project_dir/'data')\n",
        "# unzip archive\n",
        "torchtext.utils.extract_archive(archive_file)\n",
        "\n",
        "en_corpus_file = project_dir/'data'/'europarl-v7.it-en.en'\n",
        "it_corpus_file = project_dir/'data'/'europarl-v7.it-en.it'\n",
        "assert en_corpus_file.is_file()\n",
        "assert it_corpus_file.is_file()\n",
        "\n",
        "# create dir for model checkpoints\n",
        "checkpoint_dir = project_dir / 'checkpoints'\n",
        "checkpoint_dir.mkdir(exist_ok=True)"
      ],
      "metadata": {
        "id": "yGpawAPfu1tQ"
      },
      "execution_count": 7,
      "outputs": []
    },
    {
      "cell_type": "code",
      "execution_count": 8,
      "metadata": {
        "id": "pYiFXbZA2AK6"
      },
      "outputs": [],
      "source": [
        "def read_file(file_name, col_name=''):\n",
        "  with open(file_name, 'r', encoding='utf-8') as f:\n",
        "    return list(f.readlines())"
      ]
    },
    {
      "cell_type": "code",
      "execution_count": 9,
      "metadata": {
        "colab": {
          "base_uri": "https://localhost:8080/",
          "height": 206
        },
        "id": "Gh3esufa8eTC",
        "outputId": "6aa56307-bca5-4622-e738-8e809986b52f"
      },
      "outputs": [
        {
          "output_type": "display_data",
          "data": {
            "text/plain": [
              "                                                        en  \\\n",
              "1441645  Nowhere will this policy matter more perhaps t...   \n",
              "1052053  The situation is even more serious where child...   \n",
              "505122   For several years, we, the Greens, have been f...   \n",
              "1649094  Secondly, our proposal to include funds in the...   \n",
              "454265   The President has referred to the European Uni...   \n",
              "\n",
              "                                                        it  \n",
              "1441645  Molto probabilmente questa politica sarà più i...  \n",
              "1052053  La situazione è ancora più grave nel caso dei ...  \n",
              "505122   Da molti anni noi Verdi ci battiamo per il con...  \n",
              "1649094  Secondo: , il Parlamento europeo deve espressa...  \n",
              "454265   Il signor Presidente ha accennato all’intenzio...  "
            ],
            "text/html": [
              "\n",
              "  <div id=\"df-478465b0-38bf-4787-b997-72b73785424d\">\n",
              "    <div class=\"colab-df-container\">\n",
              "      <div>\n",
              "<style scoped>\n",
              "    .dataframe tbody tr th:only-of-type {\n",
              "        vertical-align: middle;\n",
              "    }\n",
              "\n",
              "    .dataframe tbody tr th {\n",
              "        vertical-align: top;\n",
              "    }\n",
              "\n",
              "    .dataframe thead th {\n",
              "        text-align: right;\n",
              "    }\n",
              "</style>\n",
              "<table border=\"1\" class=\"dataframe\">\n",
              "  <thead>\n",
              "    <tr style=\"text-align: right;\">\n",
              "      <th></th>\n",
              "      <th>en</th>\n",
              "      <th>it</th>\n",
              "    </tr>\n",
              "  </thead>\n",
              "  <tbody>\n",
              "    <tr>\n",
              "      <th>1441645</th>\n",
              "      <td>Nowhere will this policy matter more perhaps t...</td>\n",
              "      <td>Molto probabilmente questa politica sarà più i...</td>\n",
              "    </tr>\n",
              "    <tr>\n",
              "      <th>1052053</th>\n",
              "      <td>The situation is even more serious where child...</td>\n",
              "      <td>La situazione è ancora più grave nel caso dei ...</td>\n",
              "    </tr>\n",
              "    <tr>\n",
              "      <th>505122</th>\n",
              "      <td>For several years, we, the Greens, have been f...</td>\n",
              "      <td>Da molti anni noi Verdi ci battiamo per il con...</td>\n",
              "    </tr>\n",
              "    <tr>\n",
              "      <th>1649094</th>\n",
              "      <td>Secondly, our proposal to include funds in the...</td>\n",
              "      <td>Secondo: , il Parlamento europeo deve espressa...</td>\n",
              "    </tr>\n",
              "    <tr>\n",
              "      <th>454265</th>\n",
              "      <td>The President has referred to the European Uni...</td>\n",
              "      <td>Il signor Presidente ha accennato all’intenzio...</td>\n",
              "    </tr>\n",
              "  </tbody>\n",
              "</table>\n",
              "</div>\n",
              "      <button class=\"colab-df-convert\" onclick=\"convertToInteractive('df-478465b0-38bf-4787-b997-72b73785424d')\"\n",
              "              title=\"Convert this dataframe to an interactive table.\"\n",
              "              style=\"display:none;\">\n",
              "        \n",
              "  <svg xmlns=\"http://www.w3.org/2000/svg\" height=\"24px\"viewBox=\"0 0 24 24\"\n",
              "       width=\"24px\">\n",
              "    <path d=\"M0 0h24v24H0V0z\" fill=\"none\"/>\n",
              "    <path d=\"M18.56 5.44l.94 2.06.94-2.06 2.06-.94-2.06-.94-.94-2.06-.94 2.06-2.06.94zm-11 1L8.5 8.5l.94-2.06 2.06-.94-2.06-.94L8.5 2.5l-.94 2.06-2.06.94zm10 10l.94 2.06.94-2.06 2.06-.94-2.06-.94-.94-2.06-.94 2.06-2.06.94z\"/><path d=\"M17.41 7.96l-1.37-1.37c-.4-.4-.92-.59-1.43-.59-.52 0-1.04.2-1.43.59L10.3 9.45l-7.72 7.72c-.78.78-.78 2.05 0 2.83L4 21.41c.39.39.9.59 1.41.59.51 0 1.02-.2 1.41-.59l7.78-7.78 2.81-2.81c.8-.78.8-2.07 0-2.86zM5.41 20L4 18.59l7.72-7.72 1.47 1.35L5.41 20z\"/>\n",
              "  </svg>\n",
              "      </button>\n",
              "      \n",
              "  <style>\n",
              "    .colab-df-container {\n",
              "      display:flex;\n",
              "      flex-wrap:wrap;\n",
              "      gap: 12px;\n",
              "    }\n",
              "\n",
              "    .colab-df-convert {\n",
              "      background-color: #E8F0FE;\n",
              "      border: none;\n",
              "      border-radius: 50%;\n",
              "      cursor: pointer;\n",
              "      display: none;\n",
              "      fill: #1967D2;\n",
              "      height: 32px;\n",
              "      padding: 0 0 0 0;\n",
              "      width: 32px;\n",
              "    }\n",
              "\n",
              "    .colab-df-convert:hover {\n",
              "      background-color: #E2EBFA;\n",
              "      box-shadow: 0px 1px 2px rgba(60, 64, 67, 0.3), 0px 1px 3px 1px rgba(60, 64, 67, 0.15);\n",
              "      fill: #174EA6;\n",
              "    }\n",
              "\n",
              "    [theme=dark] .colab-df-convert {\n",
              "      background-color: #3B4455;\n",
              "      fill: #D2E3FC;\n",
              "    }\n",
              "\n",
              "    [theme=dark] .colab-df-convert:hover {\n",
              "      background-color: #434B5C;\n",
              "      box-shadow: 0px 1px 3px 1px rgba(0, 0, 0, 0.15);\n",
              "      filter: drop-shadow(0px 1px 2px rgba(0, 0, 0, 0.3));\n",
              "      fill: #FFFFFF;\n",
              "    }\n",
              "  </style>\n",
              "\n",
              "      <script>\n",
              "        const buttonEl =\n",
              "          document.querySelector('#df-478465b0-38bf-4787-b997-72b73785424d button.colab-df-convert');\n",
              "        buttonEl.style.display =\n",
              "          google.colab.kernel.accessAllowed ? 'block' : 'none';\n",
              "\n",
              "        async function convertToInteractive(key) {\n",
              "          const element = document.querySelector('#df-478465b0-38bf-4787-b997-72b73785424d');\n",
              "          const dataTable =\n",
              "            await google.colab.kernel.invokeFunction('convertToInteractive',\n",
              "                                                     [key], {});\n",
              "          if (!dataTable) return;\n",
              "\n",
              "          const docLinkHtml = 'Like what you see? Visit the ' +\n",
              "            '<a target=\"_blank\" href=https://colab.research.google.com/notebooks/data_table.ipynb>data table notebook</a>'\n",
              "            + ' to learn more about interactive tables.';\n",
              "          element.innerHTML = '';\n",
              "          dataTable['output_type'] = 'display_data';\n",
              "          await google.colab.output.renderOutput(dataTable, element);\n",
              "          const docLink = document.createElement('div');\n",
              "          docLink.innerHTML = docLinkHtml;\n",
              "          element.appendChild(docLink);\n",
              "        }\n",
              "      </script>\n",
              "    </div>\n",
              "  </div>\n",
              "  "
            ]
          },
          "metadata": {}
        }
      ],
      "source": [
        "en_data = pd.Series(read_file(en_corpus_file), name='en')\n",
        "# en_data = read_file(en_corpus_file).rename('en')\n",
        "it_data = pd.Series(read_file(it_corpus_file), name='it')\n",
        "\n",
        "# it_data = read_file(it_corpus_file, 'it')\n",
        "data = pd.concat([en_data, it_data], axis=1).sample(frac=0.1)\n",
        "display(data.head())\n"
      ]
    },
    {
      "cell_type": "markdown",
      "metadata": {
        "id": "LGszOULU8gth"
      },
      "source": [
        "# Task 1: Data exploration (10%)\n",
        "For this task you should extract some insights (i.e., some statistics and graphs) from the provided data.\n",
        "\n",
        "It could be the length differences between two languages and also the number of sentences in the\n",
        "whole corpus. Don’t limit yourself into these examples and try to find more insights in the data. Please\n",
        "highlight some of the most important findings in your report.\n",
        "\n",
        "Moreover, since the dataset is too large, randomly select 10% of data (data sampling) to train your\n",
        "models on in the next steps.\n",
        "\n",
        "Hint: if you faced codec errors in reading files, the “codecs” library could be used.\n",
        "\n",
        "Insights:\n",
        "- length in chars or in words (one or the other?)\n",
        "- length difference\n",
        "- number of sentences\n",
        "- vocabulary size\n",
        "- words common in both languages?"
      ]
    },
    {
      "cell_type": "markdown",
      "metadata": {
        "id": "iHR9boc_yjzV"
      },
      "source": [
        "## Length in chars"
      ]
    },
    {
      "cell_type": "code",
      "execution_count": 10,
      "metadata": {
        "colab": {
          "base_uri": "https://localhost:8080/",
          "height": 297
        },
        "id": "24HZDupB8mcf",
        "outputId": "e1639571-66a7-4782-a4bf-24bd2a9eb8d8"
      },
      "outputs": [
        {
          "output_type": "display_data",
          "data": {
            "text/plain": [
              "<Figure size 864x288 with 2 Axes>"
            ],
            "image/png": "[encoded data removed]"
          },
          "metadata": {
            "needs_background": "light"
          }
        }
      ],
      "source": [
        "fig, axes = plt.subplots(2, figsize=(12,4))\n",
        "data['en'].str.len().plot(kind='hist', bins=200, range=[0, 1000], ax=axes[0], title='Length of english documents (in chars)', edgecolor='black')\n",
        "data['it'].str.len().plot(kind='hist', bins=200, range=[0, 1000], ax=axes[1], title='Length of italian documents (in chars)', edgecolor='black')\n",
        "plt.xlabel(\"Number of characters\")\n",
        "fig.tight_layout()\n",
        "plt.show()"
      ]
    },
    {
      "cell_type": "markdown",
      "metadata": {
        "id": "lkP1HeyTysJl"
      },
      "source": [
        "## Length in words"
      ]
    },
    {
      "cell_type": "code",
      "execution_count": 11,
      "metadata": {
        "colab": {
          "base_uri": "https://localhost:8080/",
          "height": 297
        },
        "id": "NkxirSOJ9KNW",
        "outputId": "b7c10a56-43f4-4934-b08e-2bb246e20859"
      },
      "outputs": [
        {
          "output_type": "display_data",
          "data": {
            "text/plain": [
              "<Figure size 864x288 with 2 Axes>"
            ],
            "image/png": "[encoded data removed]"
          },
          "metadata": {
            "needs_background": "light"
          }
        }
      ],
      "source": [
        "fig, axes = plt.subplots(2, figsize=(12,4))\n",
        "data['en'].str.split().map(lambda x:len(x)).plot(kind='hist', bins=200, range=[0, 200], ax=axes[0], title='Length of english documents (in words)', edgecolor='black')\n",
        "data['it'].str.split().map(lambda x:len(x)).plot(kind='hist', bins=200, range=[0, 200], ax=axes[1], title='Length of italian documents (in words)', edgecolor='black')\n",
        "plt.xlabel(\"Number of words\")\n",
        "fig.tight_layout()\n",
        "plt.show()"
      ]
    },
    {
      "cell_type": "code",
      "source": [
        ""
      ],
      "metadata": {
        "id": "MT2UfK1c4hgL"
      },
      "execution_count": 11,
      "outputs": []
    },
    {
      "cell_type": "markdown",
      "metadata": {
        "id": "O-4vfz76yuqM"
      },
      "source": [
        "## Length difference"
      ]
    },
    {
      "cell_type": "code",
      "execution_count": 12,
      "metadata": {
        "colab": {
          "base_uri": "https://localhost:8080/",
          "height": 297
        },
        "id": "G_StuxHPAz-q",
        "outputId": "c89fab79-53e0-4de9-e819-5308adbfd1b6"
      },
      "outputs": [
        {
          "output_type": "display_data",
          "data": {
            "text/plain": [
              "<Figure size 864x288 with 2 Axes>"
            ],
            "image/png": "[encoded data removed]"
          },
          "metadata": {
            "needs_background": "light"
          }
        }
      ],
      "source": [
        "fig, axes = plt.subplots(2, figsize=(12,4))\n",
        "(data['en'].str.len()-data['it'].str.len()).plot(kind='hist', bins=200, range=[-200, 200], ax=axes[0], title='Document length difference in chars (english-italian)', edgecolor='black')\n",
        "(data['en'].str.split().map(lambda x:len(x))-data['it'].str.split().map(lambda x:len(x))).plot(kind='hist', bins=200, range=[-100, 100], ax=axes[1], title='Document length difference in words (english-italian)', edgecolor='black')\n",
        "fig.tight_layout()\n",
        "plt.show()"
      ]
    },
    {
      "cell_type": "markdown",
      "metadata": {
        "id": "jh5QQSR6EBN9"
      },
      "source": [
        "## Number of sentences"
      ]
    },
    {
      "cell_type": "code",
      "execution_count": 13,
      "metadata": {
        "id": "8qMMDMy5EAxf"
      },
      "outputs": [],
      "source": [
        "# split each cell into sentences \n",
        "tokenized_data_en = data['en'].map(lambda s: sent_tokenize(s, language='english')).copy()\n",
        "tokenized_data_it = data['it'].map(lambda s: sent_tokenize(s, language='italian')).copy()\n",
        "nb_en_sentences = tokenized_data_en.map(lambda l: len(l)).sum()\n",
        "nb_it_sentences = tokenized_data_it.map(lambda l: len(l)).sum()"
      ]
    },
    {
      "cell_type": "code",
      "execution_count": 14,
      "metadata": {
        "colab": {
          "base_uri": "https://localhost:8080/",
          "height": 281
        },
        "id": "ddmI0bxjnqa8",
        "outputId": "9a216272-b642-4d81-d47a-12bc6555cddd"
      },
      "outputs": [
        {
          "output_type": "display_data",
          "data": {
            "text/plain": [
              "<Figure size 432x288 with 1 Axes>"
            ],
            "image/png": "[encoded data removed]"
          },
          "metadata": {
            "needs_background": "light"
          }
        }
      ],
      "source": [
        "labels = ['en', 'it']\n",
        "values = [nb_en_sentences, nb_it_sentences]\n",
        "\n",
        "# Plot the figure.\n",
        "fig, ax = plt.subplots()\n",
        "plt.bar(labels, values)\n",
        "ax.set_title(\"Number of sentences\")\n",
        "ax.set_ylabel(\"# sentence tokens\")\n",
        "ax.set_xticklabels(labels)\n",
        "\n",
        "rects = ax.patches\n",
        "\n",
        "for rect, value in zip(rects, values):\n",
        "    height = rect.get_height()\n",
        "    ax.text(\n",
        "        rect.get_x() + rect.get_width() / 2, height + 5, f'{value:,}', ha=\"center\", va=\"bottom\"\n",
        "    )\n",
        "\n",
        "plt.show()"
      ]
    },
    {
      "cell_type": "markdown",
      "metadata": {
        "id": "UzJZWFSWzNUk"
      },
      "source": [
        "## Vocabulary size"
      ]
    },
    {
      "cell_type": "code",
      "execution_count": 15,
      "metadata": {
        "id": "zpHROXo-zPjs"
      },
      "outputs": [],
      "source": [
        "def wordCount(data):\n",
        "  word_counter = Counter()\n",
        "  tokenized_data = data.map(lambda s: word_tokenize(s.lower())).copy()\n",
        "  tokenized_data.apply(word_counter.update)\n",
        "  return word_counter\n",
        "\n",
        "en_vocab = set(wordCount(data['en']).keys())\n",
        "it_vocab = set(wordCount(data['it']).keys())"
      ]
    },
    {
      "cell_type": "code",
      "execution_count": 16,
      "metadata": {
        "colab": {
          "base_uri": "https://localhost:8080/",
          "height": 281
        },
        "id": "Jmu9qTm4kn1q",
        "outputId": "3daab209-b009-4e92-96fb-63379d2ec0e6"
      },
      "outputs": [
        {
          "output_type": "display_data",
          "data": {
            "text/plain": [
              "<Figure size 432x288 with 1 Axes>"
            ],
            "image/png": "[encoded data removed]"
          },
          "metadata": {
            "needs_background": "light"
          }
        }
      ],
      "source": [
        "labels = ['en', 'it']\n",
        "values = [len(en_vocab), len(it_vocab)]\n",
        "\n",
        "# Plot the figure.\n",
        "fig, ax = plt.subplots()\n",
        "plt.bar(labels, values)\n",
        "ax.set_title(\"Vocabulary Size\")\n",
        "ax.set_ylabel(\"# tokens\")\n",
        "ax.set_xticklabels(labels)\n",
        "\n",
        "rects = ax.patches\n",
        "\n",
        "for rect, value in zip(rects, values):\n",
        "    height = rect.get_height()\n",
        "    ax.text(\n",
        "        rect.get_x() + rect.get_width() / 2, height + 5, f'{value:,}', ha=\"center\", va=\"bottom\"\n",
        "    )\n",
        "\n",
        "plt.show()"
      ]
    },
    {
      "cell_type": "markdown",
      "metadata": {
        "id": "HYjIVTHO88nJ"
      },
      "source": [
        "# Task 2: Pre-processing (15%)\n",
        "In this task, first, apply all the necessary pre-processing steps that you think they would help to better prepare your data for the next steps. You don’t have to apply all the pre-processing tasks which are\n",
        "covered in the course. Regarding the report, you should briefly mention it in your report that why you\n",
        "decided to apply the chosen pre-processing steps (and why not the others).\n",
        "\n",
        "Among all the pre-processing tasks, the following are recommended:\n",
        "\n",
        "- lowercase the text\n",
        "\n",
        "- strip empty lines and their correspondences\n",
        "\n",
        "- remove lines with XML-Tags (starting with \"<\")\n",
        "\n",
        "=> note: there are no lines starting with \"<\", but there are lines containing: >some words= , is this what is meant here?\n",
        "\n",
        "our ideas:\n",
        "- seperate punctuation/special characters from words (Hello! --> Hello !) => word_tokenize does this actually\n",
        "- undo compact forms (ex: I'm --> I am)\n",
        "- remove special characters < and =\n",
        "- many sentences contain the legal report number ex: (A5-0052/1999) -> remove substrings of format: '\\([A-Z][0-9]-[0-9]{4}\\/[0-9]{4}\\)'\n",
        "- many sentences start with for ex: - (SV) or . (PT) -> remove substrings of format: '- \\([A-Z][A-Z]\\)' and '. \\([A-Z][A-Z]\\)'\n",
        "- any pre processing specific to Italian?"
      ]
    },
    {
      "cell_type": "code",
      "source": [
        "#   special_chars = ['>', '=']\n",
        "#   text = text.translate({ord(c): \" \" for c in special_chars})   # remove special characters"
      ],
      "metadata": {
        "id": "YcV9a8xtKxeu"
      },
      "execution_count": 17,
      "outputs": []
    },
    {
      "cell_type": "code",
      "execution_count": 18,
      "metadata": {
        "id": "ove4R5ov9WyH"
      },
      "outputs": [],
      "source": [
        "def prep(text :str) -> str:\n",
        "    # remove legals\n",
        "    text = re.sub(pattern=r'\\([A-Z][0-9]-[0-9]{4}\\/[0-9]{2,4}\\)', repl='', string=text)\n",
        "    # remove country codes\n",
        "    text = re.sub(pattern=r'(. )?\\([A-Z]{2}\\)', repl='', string=text)\n",
        "    # remove XML tags\n",
        "    text = re.sub(pattern=r'<.*?>', repl='', string=text)\n",
        "    # remove sentence if it contains no letter\n",
        "    text = re.sub(pattern=r'^[^a-zA-Z]*$', repl='', string=text)\n",
        "    # lower case\n",
        "    text = text.lower()\n",
        "    # undo contractions\n",
        "    text = contractions.fix(text)\n",
        "    return text\n",
        "\n",
        "def tokenize(text, language):\n",
        "    langMap = {\n",
        "        'en': 'english',\n",
        "        'it': 'italian',\n",
        "        'sw': 'swedish',\n",
        "    }\n",
        "    if language in langMap:\n",
        "        language = langMap[language]\n",
        "    token = word_tokenize(text, language=language)\n",
        "    return token\n",
        "\n",
        "def preprocess(data):\n",
        "    prep_data = data.copy()\n",
        "    # preprocess\n",
        "    prep_data['en'] = prep_data['en'].map(lambda t: prep(t))\n",
        "    prep_data['it'] = prep_data['it'].map(lambda t: prep(t))\n",
        "    # tokenize\n",
        "    prep_data['en'] = prep_data['en'].map(lambda t: tokenize(t, language='en'))\n",
        "    prep_data['it'] = prep_data['it'].map(lambda t: tokenize(t, language='it'))\n",
        "    # remove empty tokens\n",
        "    prep_data = prep_data.replace([], np.nan).dropna() \n",
        "    return prep_data"
      ]
    },
    {
      "cell_type": "code",
      "execution_count": 19,
      "metadata": {
        "id": "FMLR2u6Y9rcP"
      },
      "outputs": [],
      "source": [
        "en_it_df = preprocess(data)\n",
        "en_sent_list = en_it_df['en'].tolist()\n",
        "it_sent_list = en_it_df['it'].tolist()\n",
        "\n",
        "# append \"start of sentence\" and \"end of sentence\" tokens so that the embedding algorithms learn an embedding for these tokens\n",
        "en_sent_list.append(['<SOS>'])\n",
        "en_sent_list.append(['<EOS>'])\n",
        "it_sent_list.append(['<SOS>'])\n",
        "it_sent_list.append(['<EOS>'])"
      ]
    },
    {
      "cell_type": "code",
      "execution_count": 20,
      "metadata": {
        "colab": {
          "base_uri": "https://localhost:8080/"
        },
        "id": "VkwncBsNkw1N",
        "outputId": "51a13c78-15d7-4292-9f78-cdada437db33"
      },
      "outputs": [
        {
          "output_type": "stream",
          "name": "stdout",
          "text": [
            "['nowhere', 'will', 'this', 'policy', 'matter', 'more', 'perhaps', 'than', 'in', 'tunisia', '.']\n",
            "['molto', 'probabilmente', 'questa', 'politica', 'sarà', 'più', 'incisiva', 'in', 'tunisia', 'che', 'altrove', '.']\n"
          ]
        }
      ],
      "source": [
        "print(en_sent_list[0])\n",
        "print(it_sent_list[0])"
      ]
    },
    {
      "cell_type": "markdown",
      "metadata": {
        "id": "rrDDaEJd9eND"
      },
      "source": [
        "# Task 3: Neural Machine Translation (45%)\n",
        "In this task you should do the following sub-tasks. Choose two evaluation metrics and report your\n",
        "results using these two metrics.\n",
        "\n",
        "- Split data into train, validation and test sets. Use 20% of data as the test set.\n",
        "\n",
        "- Develop an RNN based sequence to sequence model (encoder-decoder) to translate English\n",
        "input into Italian text.\n",
        "\n",
        "  - In your report describe your reasons for choosing the architecture that you are using\n",
        "for the task\n",
        "\n",
        "  - Track the impact of different embedding models (e.g., Glove, Word2Vec and …) on\n",
        "the performance of your model.\n",
        "\n",
        "  - Interpret the results of your model in the report. Does the length of text impact on\n",
        "the performance of the model? What characteristic of sentences led to better\n",
        "translation by the model?\n",
        "\n",
        "- Change your input and target languages (Translate from Italian to English) and train your mode again. Compare the results in this step with the results from the previous step where English\n",
        "was the input language.\n",
        "\n",
        "- Develop a character-based model that train to translate characters into the target language. Compare the results by this model with the achieved results from the word-based models before.\n",
        "\n",
        "Please report all the achieved results with either models in your report document. Moreover, describe\n",
        "the hyper-parameters of your neural network model in the report."
      ]
    },
    {
      "cell_type": "code",
      "source": [
        "# 1. build vocab\n"
      ],
      "metadata": {
        "id": "AusFb1k2DnJA"
      },
      "execution_count": 21,
      "outputs": []
    },
    {
      "cell_type": "code",
      "source": [
        "from torchtext.vocab import build_vocab_from_iterator, vocab\n",
        "from collections import Counter, OrderedDict\n",
        "\n",
        "def build_vocab(sentences, specials, min_freq):\n",
        "    \n",
        "    tokens = [word \n",
        "              for sent in sentences \n",
        "              for word in sent]\n",
        "    counter = Counter(tokens)\n",
        "    frequency_ranking = sorted(counter.items(), key=lambda x: x[1], reverse=True)\n",
        "    v = vocab(OrderedDict(frequency_ranking), min_freq=min_freq, specials=specials)\n",
        "    return v\n",
        "\n",
        "vocab_en = build_vocab(en_sent_list, specials=['<EOS>', '<SOS>', \"<unk>\"], min_freq=1)\n",
        "vocab_it = build_vocab(it_sent_list, specials=['<EOS>', '<SOS>', \"<unk>\"], min_freq=1)\n",
        "# vocab_en.set_default_index(-1) # set <unk> as default \n",
        "\n",
        "len(vocab_en), len(vocab_it)"
      ],
      "metadata": {
        "id": "L03wNiO9D_Zy",
        "colab": {
          "base_uri": "https://localhost:8080/"
        },
        "outputId": "7a75e1cb-e211-4f2a-ebb7-e2ac1e8ef7d7"
      },
      "execution_count": 69,
      "outputs": [
        {
          "output_type": "execute_result",
          "data": {
            "text/plain": [
              "(47750, 74332)"
            ]
          },
          "metadata": {},
          "execution_count": 69
        }
      ]
    },
    {
      "cell_type": "code",
      "source": [
        "# floatTensorWithWeights.size = (num_embeddings, embedding_dim)\n",
        "\n"
      ],
      "metadata": {
        "id": "r5Lr3ziyPK9u"
      },
      "execution_count": 23,
      "outputs": []
    },
    {
      "cell_type": "code",
      "source": [
        "# full_ds = Europarl(en_it_df.en, en_it_df.it)\n",
        "\n",
        "# fractions = [0.7, 0.1, 0.2]\n",
        "# set_sizes = subset_sizes(len(full_ds), fractions)\n",
        "\n",
        "# train_ds, val_ds, test_ds = torch.utils.data.random_split(full_ds, lengths=set_sizes)\n",
        "\n",
        "# BATCH_SIZE = 32\n",
        "\n",
        "# trainLoader = DataLoader(train_ds, batch_size=BATCH_SIZE, shuffle=True)\n",
        "# testLoader = DataLoader(test_ds, batch_size=BATCH_SIZE, shuffle=True)\n",
        "# valLoader = DataLoader(val_ds, batch_size=BATCH_SIZE, shuffle=True)\n",
        "\n"
      ],
      "metadata": {
        "id": "RaUDej9G-bWm"
      },
      "execution_count": 24,
      "outputs": []
    },
    {
      "cell_type": "code",
      "source": [
        "# class EncoderNew(nn.Module):\n",
        "#     def __init__(self, input_size,embedding_size, hidden_size, num_layers=1, dropout_rate=0.5):\n",
        "#         super(EncoderNew, self).__init__()\n",
        "#         self.input_size = input_size\n",
        "#         self.embedding_size = embedding_size\n",
        "#         self.hidden_size = hidden_size\n",
        "#         self.num_layers = num_layers\n",
        "\n",
        "#         self.dropout = nn.Dropout(dropout_rate)   \n",
        "#         self.embedding = nn.Embedding(input_size, embedding_size) \n",
        "#         self.rnn = nn.LSTM(\n",
        "#             input_size=embedding_size, \n",
        "#             hidden_size=hidden_size, \n",
        "#             num_layers=num_layers,\n",
        "#             dropout=0, \n",
        "#             batch_first=True\n",
        "#         )\n",
        "\n",
        "#     def forward(self, x, device):\n",
        "#         embedding = self.dropout(self.embedding(x))\n",
        "#         outs, (hidden, cell) = self.rnn(embedding)\n",
        "\n",
        "#         # h = self.initHidden(x.size()[0])\n",
        "#         return hidden, cell\n",
        "#         _, h_n = self.rnn(x, h)\n",
        "#         return h_n\n",
        "\n",
        "#     def initHidden(self, batch_size):\n",
        "#         return torch.zeros(self.num_layers, batch_size, self.hidden_size).to(device)\n",
        "\n"
      ],
      "metadata": {
        "id": "e9kTXyCHQKhY"
      },
      "execution_count": 25,
      "outputs": []
    },
    {
      "cell_type": "code",
      "source": [
        ""
      ],
      "metadata": {
        "id": "BANXvZMux8MB"
      },
      "execution_count": 25,
      "outputs": []
    },
    {
      "cell_type": "markdown",
      "metadata": {
        "id": "bbN6BVnI9XvJ"
      },
      "source": [
        "## Embeddings\n",
        "\n",
        "- CharNgrams\n",
        "- Glove\n",
        "- Word2Vec\n",
        "  - with CBOW\n",
        "  - with skip-gram\n",
        "\n",
        "  (FastText, Context2Vec, CoVe ELMo)"
      ]
    },
    {
      "cell_type": "code",
      "source": [
        "# num_emb = 1000\n",
        "# emb_dim = 100\n",
        "# emb = nn.Embedding(num_emb, emb_dim)\n",
        "# emb.weight.requires_grad = False\n",
        "\n",
        "# embedding_weights = np.zeros((num_emb, emb_dim))\n",
        "# emb.weight = nn.Parameter(torch.FloatTensor(embedding_weights))\n"
      ],
      "metadata": {
        "id": "WNP5BqlT4RUi"
      },
      "execution_count": 26,
      "outputs": []
    },
    {
      "cell_type": "markdown",
      "source": [
        "### Glove\n"
      ],
      "metadata": {
        "id": "WXNHDKO5NKjd"
      }
    },
    {
      "cell_type": "code",
      "source": [
        ""
      ],
      "metadata": {
        "id": "fJEib3qlNJUA"
      },
      "execution_count": 127,
      "outputs": []
    },
    {
      "cell_type": "markdown",
      "source": [
        "## Hyperparameters for embedding"
      ],
      "metadata": {
        "id": "qmd3J6lHS3Ks"
      }
    },
    {
      "cell_type": "code",
      "source": [
        "emb_min_count = 2\n",
        "emb_window = 7\n",
        "emb_epochs = 5\n",
        "emb_threads = multiprocessing.cpu_count() - 1\n",
        "emb_dim = 32"
      ],
      "metadata": {
        "id": "KDJIiZ3HSvMc"
      },
      "execution_count": 142,
      "outputs": []
    },
    {
      "cell_type": "code",
      "source": [
        "from torchtext.vocab import build_vocab_from_iterator, vocab\n",
        "from collections import Counter, OrderedDict\n",
        "\n",
        "def build_vocab(sentences, specials, min_freq):\n",
        "    \n",
        "    tokens = [word \n",
        "              for sent in sentences \n",
        "              for word in sent]\n",
        "    counter = Counter(tokens)\n",
        "    frequency_ranking = sorted(counter.items(), key=lambda x: x[1], reverse=True)\n",
        "    v = vocab(OrderedDict(frequency_ranking), min_freq=min_freq, specials=specials)\n",
        "    return v\n",
        "\n",
        "vocab_en = build_vocab(en_sent_list, specials=['<EOS>', '<SOS>'], min_freq=1)\n",
        "vocab_it = build_vocab(it_sent_list, specials=['<EOS>', '<SOS>'], min_freq=1)\n",
        "# vocab_en.set_default_index(-1) # set <unk> as default \n",
        "\n",
        "len(vocab_en), len(vocab_it)"
      ],
      "metadata": {
        "colab": {
          "base_uri": "https://localhost:8080/"
        },
        "id": "QCsw0rCkUUeg",
        "outputId": "965b8918-da3a-4b13-a81b-9e4d90ac39f0"
      },
      "execution_count": 141,
      "outputs": [
        {
          "output_type": "execute_result",
          "data": {
            "text/plain": [
              "(47749, 74331)"
            ]
          },
          "metadata": {},
          "execution_count": 141
        }
      ]
    },
    {
      "cell_type": "code",
      "source": [
        "from glove import Glove, Corpus\n",
        "\n",
        "def glove_embedding(sent_corpus, vocab_dict=None): # can use vocab_en.get_stoi() vocab dict\n",
        "    glove_corpus = Corpus(vocab_dict) \n",
        "    glove_corpus.fit(sent_corpus, window=emb_window)  # build co-occurrence matrix\n",
        "    model = Glove(no_components=emb_dim)\n",
        "    model.fit(glove_corpus.matrix, epochs=emb_epochs, no_threads=emb_threads, verbose=True)\n",
        "    model.add_dictionary(glove_corpus.dictionary)\n",
        "    weights = torch.FloatTensor(model.word_vectors)\n",
        "    return nn.Embedding.from_pretrained(weights)  # init embedding layer with trained weights\n"
      ],
      "metadata": {
        "id": "Oj6gcbL7N3y7"
      },
      "execution_count": 143,
      "outputs": []
    },
    {
      "cell_type": "code",
      "source": [
        "from gensim.models.callbacks import CallbackAny2Vec\n",
        "\n",
        "class w2v_logger(CallbackAny2Vec):\n",
        "    '''print loss after each epoch.'''\n",
        "    def __init__(self):\n",
        "        self.epoch = 0\n",
        "\n",
        "    def on_epoch_begin(self, model):\n",
        "        print(f'\\r epoch {self.epoch}')\n",
        "        self.epoch += 1\n",
        "\n",
        "def word2vec_embedding(sent_corpus, vocab_dict, use_skipgram):\n",
        "    model = Word2Vec(min_count=emb_min_count, \n",
        "                     window=emb_window, \n",
        "                     size=emb_dim, \n",
        "                     sg=1 if use_skipgram else 0, \n",
        "                     workers=emb_threads)\n",
        "    # init vocab\n",
        "    model.build_vocab_from_freq(vocab_dict)\n",
        "    # train word2vec\n",
        "    model.train(en_sent_list, total_examples=len(sent_corpus), epochs=emb_epochs, callbacks=[w2v_logger()])\n",
        "    weights = torch.FloatTensor(model.wv.vectors)\n",
        "    return nn.Embedding.from_pretrained(weights)\n",
        "\n",
        "\n",
        "def skipgram_embedding(sent_corpus, vocab_dict):\n",
        "    return word2vec_embedding(sent_corpus, vocab_dict, use_skipgram=True)\n",
        "\n",
        "def cbow_embedding(sent_corpus, vocab_dict):\n",
        "    return word2vec_embedding(sent_corpus, vocab_dict, use_skipgram=False)"
      ],
      "metadata": {
        "id": "T2knBK-ERctS"
      },
      "execution_count": null,
      "outputs": []
    },
    {
      "cell_type": "markdown",
      "source": [
        "## Train Glove embeddings"
      ],
      "metadata": {
        "id": "owQ-2e2Kb3Qj"
      }
    },
    {
      "cell_type": "code",
      "source": [
        "force_train = True\n",
        "glove_file_en = checkpoint_dir/'embedding.glove.en'\n",
        "glove_file_it = checkpoint_dir/'embedding.glove.it'\n",
        "\n",
        "\n",
        "# make en embeddding\n",
        "if not force_train and glove_file_en.is_file():\n",
        "    emb_glove_en = torch.load(glove_file_en)\n",
        "else:\n",
        "    emb_glove_en = glove_embedding(en_sent_list, vocab_en.get_stoi())\n",
        "    torch.save(emb_glove_en, glove_file_en)\n",
        "\n",
        "\n",
        "# make it embeddding\n",
        "if not force_train and glove_file_it.is_file():\n",
        "    emb_glove_it = torch.load(glove_file_it)\n",
        "else:\n",
        "    emb_glove_it = glove_embedding(it_sent_list, vocab_it.get_stoi())\n",
        "    torch.save(emb_glove_it, glove_file_it)\n",
        "\n",
        "# emb_glove_en(torch.tensor(vocab_en[\"euro\"]))"
      ],
      "metadata": {
        "colab": {
          "base_uri": "https://localhost:8080/"
        },
        "id": "MtAVxu0DT0wN",
        "outputId": "04b95398-0f58-49a5-9c79-d13b9f6e3f4f"
      },
      "execution_count": 145,
      "outputs": [
        {
          "output_type": "stream",
          "name": "stdout",
          "text": [
            "Performing 5 training epochs with 1 threads\n",
            "Epoch 0\n",
            "Epoch 1\n",
            "Epoch 2\n",
            "Epoch 3\n",
            "Epoch 4\n",
            "Performing 5 training epochs with 1 threads\n",
            "Epoch 0\n",
            "Epoch 1\n",
            "Epoch 2\n",
            "Epoch 3\n",
            "Epoch 4\n"
          ]
        }
      ]
    },
    {
      "cell_type": "code",
      "source": [
        "def make_embedding(name, sentences, vocab, lang, force_train=False):\n",
        "    # either load embedding from disk or train from scratch\n",
        "    \n",
        "    name=name.lower()\n",
        "    # vocab = build_vocab(sentences, specials=['<SOS>', '<EOS>'], min_freq=1)\n",
        "    emb_funcs = {\n",
        "        'glove': glove_embedding, \n",
        "        'skipgram': skipgram_embedding, \n",
        "        'cbow': cbow_embedding,\n",
        "    }\n",
        "    if name not in emb_funcs:\n",
        "        raise KeyError('invalid embedding name')\n",
        "\n",
        "    checkpoint_file = checkpoint_dir / f'embedding.{name}.{lang}'\n",
        "    if not force_train and checkpoint_file.is_file():\n",
        "        embedding = torch.load(checkpoint_file)\n",
        "    else: \n",
        "        embedding = emb_funcs[name](sentences, vocab.get_stoi())\n",
        "        torch.save(embedding, checkpoint_file)\n",
        "    return embedding\n"
      ],
      "metadata": {
        "id": "z7CtkcnGVpxo"
      },
      "execution_count": 156,
      "outputs": []
    },
    {
      "cell_type": "code",
      "source": [
        "force_train = False"
      ],
      "metadata": {
        "id": "W9gLCfZIfjEP"
      },
      "execution_count": null,
      "outputs": []
    },
    {
      "cell_type": "code",
      "source": [
        "emb_glove_en = make_embedding('glove', en_sent_list, vocab_en, 'en', force_train=force_train)\n",
        "emb_glove_it = make_embedding('glove', it_sent_list, vocab_it, 'it', force_train=force_train)\n",
        "print(emb_glove_en, emb_glove_it)"
      ],
      "metadata": {
        "colab": {
          "base_uri": "https://localhost:8080/"
        },
        "id": "M2Ibf1CXeicV",
        "outputId": "3cbf8616-e2fd-4538-980b-f7c2cd1163ee"
      },
      "execution_count": 161,
      "outputs": [
        {
          "output_type": "stream",
          "name": "stdout",
          "text": [
            "Performing 5 training epochs with 1 threads\n",
            "Epoch 0\n",
            "Epoch 1\n",
            "Epoch 2\n",
            "Epoch 3\n",
            "Epoch 4\n",
            "Performing 5 training epochs with 1 threads\n",
            "Epoch 0\n",
            "Epoch 1\n",
            "Epoch 2\n",
            "Epoch 3\n",
            "Epoch 4\n",
            "Embedding(47749, 32) Embedding(74331, 32)\n"
          ]
        }
      ]
    },
    {
      "cell_type": "code",
      "source": [
        "emb_sg_en = make_embedding('skipgram', en_sent_list, vocab_en, 'en', force_train=force_train)\n",
        "emb_sg_it = make_embedding('skipgram', it_sent_list, vocab_it, 'it', force_train=force_train)\n",
        "print(emb_sg_en, emb_sg_it)"
      ],
      "metadata": {
        "colab": {
          "base_uri": "https://localhost:8080/"
        },
        "id": "hJeH0EUbe-rV",
        "outputId": "ee055444-d51a-44a6-f97e-70a21a9c2355"
      },
      "execution_count": null,
      "outputs": [
        {
          "output_type": "stream",
          "name": "stdout",
          "text": [
            " epoch 1\n",
            " epoch 2\n",
            " epoch 3\n",
            " epoch 4\n",
            " epoch 5\n",
            " epoch 1\n",
            " epoch 2\n",
            " epoch 3\n"
          ]
        }
      ]
    },
    {
      "cell_type": "code",
      "source": [
        "emb_cbow_en = make_embedding('cbow', en_sent_list, vocab_en, 'en', force_train=force_train)\n",
        "emb_cbow_it = make_embedding('cbow', it_sent_list, vocab_it, 'it', force_train=force_train)\n",
        "print(emb_cbow_en, emb_cbow_it)"
      ],
      "metadata": {
        "id": "Ql9d6iyGfNgu"
      },
      "execution_count": null,
      "outputs": []
    },
    {
      "cell_type": "code",
      "source": [
        "emb_sg_en = skipgram_embedding(en_sent_list, vocab_en.get_stoi())\n",
        "emb_sg_en(torch.tensor(vocab_en[\"euro\"]))"
      ],
      "metadata": {
        "colab": {
          "base_uri": "https://localhost:8080/"
        },
        "id": "ERocPFoINYml",
        "outputId": "7be6c3ee-05ab-4619-c3ec-ec113377317e"
      },
      "execution_count": 127,
      "outputs": [
        {
          "output_type": "execute_result",
          "data": {
            "text/plain": [
              "tensor([ 0.0081,  0.1129, -0.0336, -0.0153, -0.0104, -0.0042, -0.0174, -0.1075,\n",
              "        -0.0919, -0.2061,  0.1077,  0.0890,  0.0924, -0.0607,  0.0922, -0.1499,\n",
              "        -0.1073, -0.1084,  0.0197,  0.2289,  0.0698, -0.1245,  0.0523, -0.1232,\n",
              "         0.0721,  0.0333,  0.0252, -0.0450,  0.2108,  0.0898, -0.1152, -0.1276])"
            ]
          },
          "metadata": {},
          "execution_count": 127
        }
      ]
    },
    {
      "cell_type": "code",
      "execution_count": 27,
      "metadata": {
        "id": "afHQnX2DfkHA"
      },
      "outputs": [],
      "source": [
        "VECTOR_SIZE = 32\n",
        "\n",
        "cores = multiprocessing.cpu_count()\n"
      ]
    },
    {
      "cell_type": "code",
      "source": [
        ""
      ],
      "metadata": {
        "id": "LXUzcq4iZqwK"
      },
      "execution_count": 134,
      "outputs": []
    },
    {
      "cell_type": "code",
      "source": [
        ""
      ],
      "metadata": {
        "colab": {
          "base_uri": "https://localhost:8080/"
        },
        "id": "BlkdVD6cZ3q0",
        "outputId": "c9ee1136-441c-4961-fa91-bb14a638923b"
      },
      "execution_count": 136,
      "outputs": [
        {
          "output_type": "execute_result",
          "data": {
            "text/plain": [
              "(Embedding(47749, 32), Embedding(47748, 32))"
            ]
          },
          "metadata": {},
          "execution_count": 136
        }
      ]
    },
    {
      "cell_type": "markdown",
      "metadata": {
        "id": "vVfnqGXbhAnq"
      },
      "source": [
        "### Word2Vec (skip-gram)"
      ]
    },
    {
      "cell_type": "code",
      "execution_count": 28,
      "metadata": {
        "id": "Iq017mw291LF",
        "colab": {
          "base_uri": "https://localhost:8080/"
        },
        "outputId": "755c60d7-2b52-431a-97a4-2ef43e067cc3"
      },
      "outputs": [
        {
          "output_type": "stream",
          "name": "stdout",
          "text": [
            "Training Word2Vec (Skip-gram) model for English corpus...\n",
            "Done.\n"
          ]
        }
      ],
      "source": [
        "# Training english word2vec (skip-gram) model\n",
        "w2v_sg_en_model = Word2Vec(min_count=1, \n",
        "                           window=2, \n",
        "                           size=VECTOR_SIZE, \n",
        "                           sg=1, \n",
        "                           workers=cores-1)\n",
        "w2v_sg_en_model.build_vocab(en_sent_list)\n",
        "print(\"Training Word2Vec (Skip-gram) model for English corpus...\")\n",
        "w2v_sg_en_model.train(en_sent_list, total_examples=w2v_sg_en_model.corpus_count, epochs=10)\n",
        "\n",
        "print(\"Done.\")\n",
        "# Save model\n",
        "w2v_sg_en_model.save(str(checkpoint_dir/\"w2v_sg_en_model\"))"
      ]
    },
    {
      "cell_type": "code",
      "source": [
        "# Training italian word2vec (skip-gram) model\n",
        "w2v_sg_it_model = Word2Vec(min_count=1, \n",
        "                           window=2, \n",
        "                           size=VECTOR_SIZE, \n",
        "                           sg=1, \n",
        "                           workers=cores-1)\n",
        "w2v_sg_it_model.build_vocab(it_sent_list)\n",
        "print(\"Training Word2Vec (Skip-gram) model for Italian corpus...\")\n",
        "w2v_sg_it_model.train(it_sent_list, total_examples=w2v_sg_it_model.corpus_count, epochs=10)\n",
        "print(\"Done.\")\n",
        "\n",
        "# Save model\n",
        "w2v_sg_it_model.save(str(checkpoint_dir/\"w2v_sg_it_model\"))"
      ],
      "metadata": {
        "id": "Amh5cB3qG-jy",
        "colab": {
          "base_uri": "https://localhost:8080/"
        },
        "outputId": "9bebdac9-3a78-456c-ec15-f996ca179844"
      },
      "execution_count": 29,
      "outputs": [
        {
          "output_type": "stream",
          "name": "stdout",
          "text": [
            "Training Word2Vec (Skip-gram) model for Italian corpus...\n",
            "Done.\n"
          ]
        }
      ]
    },
    {
      "cell_type": "code",
      "source": [
        "\n"
      ],
      "metadata": {
        "id": "aOn_2kzbQj4G"
      },
      "execution_count": 29,
      "outputs": []
    },
    {
      "cell_type": "markdown",
      "metadata": {
        "id": "4SuzsSWBhIS6"
      },
      "source": [
        "### Word2Vec (CBOW)"
      ]
    },
    {
      "cell_type": "code",
      "execution_count": 30,
      "metadata": {
        "id": "UZMLcdg3TtPY",
        "colab": {
          "base_uri": "https://localhost:8080/"
        },
        "outputId": "044abdac-da9f-4320-c4bf-05097502c254"
      },
      "outputs": [
        {
          "output_type": "stream",
          "name": "stdout",
          "text": [
            "Training Word2Vec (CBOW) model for English corpus...\n",
            "Done.\n",
            "Training Word2Vec (CBOW) model for Italian corpus...\n",
            "Done.\n"
          ]
        }
      ],
      "source": [
        "# Training english word2vec (CBOW) model\n",
        "w2v_cbow_en_model = Word2Vec(min_count=1, \n",
        "                           window=2, \n",
        "                           size=VECTOR_SIZE, \n",
        "                           sg=0, \n",
        "                           workers=cores-1)\n",
        "w2v_cbow_en_model.build_vocab(en_sent_list)\n",
        "print(\"Training Word2Vec (CBOW) model for English corpus...\")\n",
        "w2v_cbow_en_model.train(en_sent_list, total_examples=w2v_sg_en_model.corpus_count, epochs=10)\n",
        "print(\"Done.\")\n",
        "\n",
        "# Training italian word2vec (CBOW) model\n",
        "w2v_cbow_it_model = Word2Vec(min_count=1, \n",
        "                           window=2, \n",
        "                           size=VECTOR_SIZE, \n",
        "                           sg=0, \n",
        "                           workers=cores-1)\n",
        "w2v_cbow_it_model.build_vocab(it_sent_list)\n",
        "print(\"Training Word2Vec (CBOW) model for Italian corpus...\")\n",
        "w2v_cbow_it_model.train(it_sent_list, total_examples=w2v_sg_it_model.corpus_count, epochs=10)\n",
        "print(\"Done.\")\n",
        "\n",
        "# Save models\n",
        "w2v_cbow_en_model.save(str(checkpoint_dir/\"w2v_cbow_en_model\"))\n",
        "w2v_cbow_it_model.save(str(checkpoint_dir/\"w2v_cbow_it_model\"))"
      ]
    },
    {
      "cell_type": "markdown",
      "metadata": {
        "id": "OKZEWpcMhNZB"
      },
      "source": [
        "### Glove"
      ]
    },
    {
      "cell_type": "code",
      "source": [
        "# from torchtext.vocab import CharNGram, GloVe\n",
        "\n",
        "# tokenizers: spacy, moses, toktok, subword\n",
        "# torchtext.data.utils.get_tokenizer(tokenizer='spacy', language='en_core_web_sm')\n"
      ],
      "metadata": {
        "id": "wJvmb5opgl8q"
      },
      "execution_count": 31,
      "outputs": []
    },
    {
      "cell_type": "markdown",
      "source": [
        "### Character embedding"
      ],
      "metadata": {
        "id": "2hT_S-xHNcTX"
      }
    },
    {
      "cell_type": "code",
      "source": [
        "# TODO: embedding for character-based model"
      ],
      "metadata": {
        "id": "TzcDFQMRNiXJ"
      },
      "execution_count": null,
      "outputs": []
    },
    {
      "cell_type": "code",
      "source": [
        "sample = en_sent_list[0]\n",
        "vocab_en[sample]"
      ],
      "metadata": {
        "id": "WdTWKerxhUWN"
      },
      "execution_count": null,
      "outputs": []
    },
    {
      "cell_type": "markdown",
      "metadata": {
        "id": "MU4DdxniGcrb"
      },
      "source": [
        "## Dataset Class\n"
      ]
    },
    {
      "cell_type": "code",
      "execution_count": null,
      "metadata": {
        "id": "FkQOvFuNGe3t"
      },
      "outputs": [],
      "source": [
        "class Europarl(Dataset):\n",
        "    def __init__(self, corpus_a, corpus_b: pd.Series):\n",
        "        self.lang_a = corpus_a.name \n",
        "        self.lang_b = corpus_b.name\n",
        "        \n",
        "        self.corpus_a = corpus_a.to_list()\n",
        "        self.corpus_b = corpus_b.to_list()\n",
        "        \n",
        "    def __len__(self):\n",
        "        if len(self.corpus_a) != len(self.corpus_b):\n",
        "            raise ValueError('Number of documents in language A is different to language B.')\n",
        "        else:\n",
        "            return len(self.corpus_a)\n",
        "\n",
        "    def __getitem__(self, idx):\n",
        "        self.corpus_a[idx].append('<EOS>')\n",
        "        self.corpus_b[idx].append('<EOS>')\n",
        "        return (self.corpus_a[idx], self.corpus_b[idx])\n",
        "\n",
        "\n",
        "def subset_sizes(full_len, fractions):\n",
        "    head = fractions[0]\n",
        "    tail = fractions[1:]\n",
        "    sizes = [int(len(full_ds) * s) for s in tail]\n",
        "    return [full_len - sum(sizes)] + sizes\n"
      ]
    },
    {
      "cell_type": "code",
      "source": [
        "def get_collate_func(embedding_a, vocab_a, embedding_b, vocab_b):\n",
        "    \n",
        "    def collate(batch):\n",
        "        emb_a = emb_b = []\n",
        "        for sent_a, sent_b in batch:\n",
        "            \n",
        "\n",
        "\n"
      ],
      "metadata": {
        "id": "jVPGWf-QgTbq"
      },
      "execution_count": null,
      "outputs": []
    },
    {
      "cell_type": "markdown",
      "metadata": {
        "id": "L2RPWuoVgCXp"
      },
      "source": [
        "### Collate Functions"
      ]
    },
    {
      "cell_type": "code",
      "execution_count": null,
      "metadata": {
        "id": "4g7JSCtrMaYg"
      },
      "outputs": [],
      "source": [
        "# collate_fn for Word2Vec SKIP-GRAM dataloader\n",
        "def w2v_sg_en_it_collate(batch):\n",
        "  modelA = Word2Vec.load(str(checkpoint_dir/\"w2v_sg_en_model\"))\n",
        "  modelB = Word2Vec.load(str(checkpoint_dir/\"w2v_sg_it_model\"))\n",
        "  return batch_embed(batch, modelA, modelB)\n",
        "\n",
        "# collate_fn for Word2Vec CBOW dataloader\n",
        "def w2v_cbow_en_it_collate(batch):\n",
        "  modelA = Word2Vec.load(str(checkpoint_dir/\"w2v_cbow_en_model\"))\n",
        "  modelB = Word2Vec.load(str(checkpoint_dir/\"w2v_cbow_it_model\"))\n",
        "  return batch_embed(batch, modelA, modelB)\n",
        "\n",
        "def batch_embed(batch, modelA, modelB):\n",
        "  lang_A_embeddings, lang_B_embeddings = [], []\n",
        "  for (lang_A_sentence, lang_B_sentence) in batch:\n",
        "    lang_A_embeddings.append(torch.FloatTensor(sent_embed(lang_A_sentence, modelA)))\n",
        "    lang_B_embeddings.append(torch.FloatTensor(sent_embed(lang_B_sentence, modelB)))\n",
        "  return pad_sequence(lang_A_embeddings, batch_first=True), pad_sequence(lang_B_embeddings, batch_first=True)\n",
        "\n",
        "def sent_embed(sentence, model):\n",
        "  embedding = []\n",
        "  for w in sentence:\n",
        "    embedding.append(model.wv[w])\n",
        "  return embedding\n",
        "\n",
        "# TODO collate function for glove embedding"
      ]
    },
    {
      "cell_type": "markdown",
      "metadata": {
        "id": "IgjC2HLH9aoW"
      },
      "source": [
        "## Model"
      ]
    },
    {
      "cell_type": "code",
      "execution_count": null,
      "metadata": {
        "id": "azhQ7W_t9eK9"
      },
      "outputs": [],
      "source": [
        "class Encoder(nn.Module):\n",
        "  def __init__(self, input_size, hidden_size, num_layers=1):\n",
        "    super(Encoder, self).__init__()\n",
        "    self.input_size = input_size\n",
        "    self.hidden_size = hidden_size\n",
        "    self.num_layers = num_layers\n",
        "    self.rnn = nn.RNN(input_size, hidden_size, num_layers, batch_first=True)\n",
        "\n",
        "  def forward(self, x, device):\n",
        "    h = self.initHidden(x.size()[0])\n",
        "    _, h_n = self.rnn(x, h)\n",
        "    return h_n\n",
        "\n",
        "  def initHidden(self, batch_size):\n",
        "    return torch.zeros(self.num_layers, batch_size, self.hidden_size).to(device)\n",
        "\n",
        "class Decoder(nn.Module):\n",
        "  def __init__(self, input_size, hidden_size, output_size, num_layers=1):\n",
        "    super(Decoder, self).__init__()\n",
        "    self.input_size = input_size\n",
        "    self.hidden_size = hidden_size\n",
        "    self.output_size = output_size\n",
        "    self.num_layers = num_layers\n",
        "    self.rnn = nn.RNN(input_size, hidden_size, num_layers, batch_first=True)\n",
        "    self.linear = nn.Linear(hidden_size, output_size)\n",
        "\n",
        "  def forward(self, x, h, target):\n",
        "    batch_size = target.size()[0]\n",
        "    sent_length = target.size()[1]\n",
        "    outputs = torch.zeros(sent_length, batch_size, self.output_size).to(device)\n",
        "    for t in range(target.size()[1]):\n",
        "      o, h = self.rnn(x, h)\n",
        "      x = self.linear(o)\n",
        "      outputs[t] = x.view(1, batch_size, -1)\n",
        "    \n",
        "    return outputs.view(batch_size, sent_length, self.output_size)\n",
        "\n",
        "class Seq2Seq(nn.Module):\n",
        "    def __init__(self, encoder, decoder) -> None:\n",
        "        super(Seq2Seq, self).__init__()\n",
        "        self.encoder = encoder\n",
        "        self.decoder = decoder"
      ]
    },
    {
      "cell_type": "markdown",
      "metadata": {
        "id": "Rwkq-rCD9era"
      },
      "source": [
        "### Train Function"
      ]
    },
    {
      "cell_type": "code",
      "source": [
        "def predict(input, target, encoder, decoder, sos_token):\n",
        "  batch_size = input.size()[0]\n",
        "        \n",
        "  # encode batch\n",
        "  encoder_h = encoder(input, device)\n",
        "  \n",
        "  # prepare decoder inputs       \n",
        "  decoder_in = sos_token.repeat(batch_size, 1).view(batch_size, 1, -1).to(device)\n",
        "  decoder_h = encoder_h\n",
        "\n",
        "  #decoder batch\n",
        "  decoder_o = decoder(decoder_in, decoder_h, target)\n",
        "\n",
        "  return decoder_o"
      ],
      "metadata": {
        "id": "eA6VjA2NQalu"
      },
      "execution_count": null,
      "outputs": []
    },
    {
      "cell_type": "code",
      "source": [
        "def train(train_dl, val_dl, encoder, decoder, encoder_opt, decoder_opt, criterion, sos_token, epochs=10):\n",
        "  for e in range(epochs):\n",
        "    print(\"Epoch: \", e)\n",
        "    acc_loss = 0\n",
        "    last_val_loss = 1e5 # big number\n",
        "\n",
        "    # train\n",
        "    for b, train_data in enumerate(train_dl):\n",
        "      # set gradients to zero\n",
        "      encoder_opt.zero_grad()\n",
        "      decoder_opt.zero_grad()\n",
        "\n",
        "      # input and target language\n",
        "      lang_A, lang_B = train_data[0].to(device), train_data[1].to(device)\n",
        "\n",
        "      # predict\n",
        "      output = predict(input=lang_A, target=lang_B, encoder=encoder, decoder=decoder, sos_token=sos_token)\n",
        "  \n",
        "      # compute and print loss\n",
        "      loss = criterion(output, lang_B)\n",
        "      acc_loss += loss\n",
        "      avg_loss = acc_loss/(b+1)\n",
        "      if b%100==0 and b>0:\n",
        "        print(f'--> Average loss after {b} batches: {avg_loss}')\n",
        "      \n",
        "      # backpropagation\n",
        "      loss.backward()\n",
        "      encoder_opt.step()\n",
        "      decoder_opt.step()\n",
        "\n",
        "    # validation\n",
        "    last_val_loss = 1e5 # just a big number\n",
        "    acc_val_loss = 0\n",
        "    with torch.no_grad():\n",
        "      for b, val_data in enumerate(val_dl):\n",
        "        # input and target language\n",
        "        lang_A, lang_B = val_data[0].to(device), val_data[1].to(device)\n",
        "\n",
        "        # predict\n",
        "        output = predict(input=lang_A, target=lang_B, encoder=encoder, decoder=decoder, sos_token=sos_token)\n",
        "    \n",
        "        # compute loss\n",
        "        val_loss = criterion(output, lang_B)\n",
        "        acc_val_loss += val_loss\n",
        "        avg_val_loss = acc_val_loss/(b+1)\n",
        "      \n",
        "      # if avg val loss better than last epoch, save model\n",
        "      if avg_val_loss < last_val_loss:\n",
        "        last_val_loss = val_loss\n",
        "        torch.save(encoder.state_dict(), checkpoint_dir/'encoder.dict')\n",
        "        torch.save(decoder.state_dict(), checkpoint_dir/'decoder.dict')\n",
        "\n",
        "      print(f'End of epoch {e} ---- loss:{avg_loss} ---- val_loss:{avg_val_loss}')\n"
      ],
      "metadata": {
        "id": "0VJaIdGj7V1w"
      },
      "execution_count": null,
      "outputs": []
    },
    {
      "cell_type": "code",
      "execution_count": null,
      "metadata": {
        "colab": {
          "base_uri": "https://localhost:8080/"
        },
        "id": "hE-soVHEOUDr",
        "outputId": "51179bab-f346-4eb5-f36c-a0be3d307ede"
      },
      "outputs": [
        {
          "output_type": "stream",
          "name": "stdout",
          "text": [
            "using cuda backend\n"
          ]
        }
      ],
      "source": [
        "def get_device():\n",
        "    if torch.has_cuda:\n",
        "        return torch.device('cuda')\n",
        "    if torch.has_mps: \n",
        "        return torch.device('mps')\n",
        "    return torch.device('cpu')\n",
        "\n",
        "device = get_device()\n",
        "print(f\"using {device} backend\")"
      ]
    },
    {
      "cell_type": "markdown",
      "metadata": {
        "id": "4p2Iso1iUR6O"
      },
      "source": [
        "## Split data"
      ]
    },
    {
      "cell_type": "code",
      "source": [
        "full_ds = Europarl(en_it_df.en, en_it_df.it)\n",
        "\n",
        "fractions = [0.7, 0.1, 0.2]\n",
        "set_sizes = subset_sizes(len(full_ds), fractions)\n",
        "\n",
        "train_ds, val_ds, test_ds = torch.utils.data.random_split(full_ds, lengths=set_sizes)"
      ],
      "metadata": {
        "id": "qRSt2IL09dt-"
      },
      "execution_count": null,
      "outputs": []
    },
    {
      "cell_type": "markdown",
      "source": [
        "## English to Italian translation"
      ],
      "metadata": {
        "id": "P4Z2jCDmUhMw"
      }
    },
    {
      "cell_type": "markdown",
      "source": [
        "### with Word2Vec Skip-gram embedding"
      ],
      "metadata": {
        "id": "Lf5ccRmnUyR8"
      }
    },
    {
      "cell_type": "code",
      "source": [
        "BATCH_SIZE = 128\n",
        "trainLoader_sg = DataLoader(train_ds, batch_size=BATCH_SIZE, collate_fn=w2v_sg_en_it_collate, shuffle=True)\n",
        "testLoader_sg = DataLoader(test_ds, batch_size=BATCH_SIZE, collate_fn=w2v_sg_en_it_collate, shuffle=True)\n",
        "valLoader_sg = DataLoader(val_ds, batch_size=BATCH_SIZE, collate_fn=w2v_sg_en_it_collate, shuffle=True)"
      ],
      "metadata": {
        "id": "t1UuvsVjTXfJ"
      },
      "execution_count": null,
      "outputs": []
    },
    {
      "cell_type": "code",
      "execution_count": null,
      "metadata": {
        "id": "hA-oLnMMYA7H",
        "colab": {
          "base_uri": "https://localhost:8080/"
        },
        "outputId": "955aeb56-9984-4105-fa4e-5f35a4150541"
      },
      "outputs": [
        {
          "output_type": "stream",
          "name": "stderr",
          "text": [
            "/usr/local/lib/python3.7/dist-packages/ipykernel_launcher.py:16: UserWarning: The given NumPy array is not writable, and PyTorch does not support non-writable tensors. This means writing to this tensor will result in undefined behavior. You may want to copy the array to protect its data or make it writable before converting it to a tensor. This type of warning will be suppressed for the rest of this program. (Triggered internally at  ../torch/csrc/utils/tensor_numpy.cpp:172.)\n",
            "  app.launch_new_instance()\n"
          ]
        }
      ],
      "source": [
        "# Hyper Parameters\n",
        "input_size = VECTOR_SIZE\n",
        "target_size = VECTOR_SIZE\n",
        "hidden_size = 512\n",
        "\n",
        "# Model set-up\n",
        "encoder = Encoder(input_size, hidden_size).to(device)\n",
        "decoder = Decoder(input_size, hidden_size, target_size).to(device)\n",
        "\n",
        "encoder_opt = optim.Adam(encoder.parameters())\n",
        "decoder_opt = optim.Adam(decoder.parameters())\n",
        "\n",
        "criterion = nn.MSELoss()\n",
        "\n",
        "w2v_sg_it_model = Word2Vec.load(str(checkpoint_dir/\"w2v_sg_it_model\"))\n",
        "sos_token = torch.FloatTensor(w2v_sg_it_model.wv['<SOS>'])\n",
        "\n",
        "# Train\n",
        "# train(trainLoader_sg, \n",
        "#       valLoader_sg, \n",
        "#       encoder, \n",
        "#       decoder, \n",
        "#       encoder_opt, \n",
        "#       decoder_opt, \n",
        "#       criterion,\n",
        "#       sos_token)"
      ]
    },
    {
      "cell_type": "markdown",
      "source": [
        "### with Word2Vec CBOW embedding"
      ],
      "metadata": {
        "id": "PcmbHjbWVAeZ"
      }
    },
    {
      "cell_type": "code",
      "source": [
        "# TODO"
      ],
      "metadata": {
        "id": "lPk8yHyVVHsI"
      },
      "execution_count": null,
      "outputs": []
    },
    {
      "cell_type": "markdown",
      "source": [
        "### with Glove embedding"
      ],
      "metadata": {
        "id": "S-kk1EvCVJsg"
      }
    },
    {
      "cell_type": "markdown",
      "metadata": {
        "id": "FElBV7CS9qwu"
      },
      "source": [
        "## Evaluation"
      ]
    },
    {
      "cell_type": "code",
      "source": [
        "encoder.load_state_dict(torch.load('encoder.dict'))\n",
        "decoder.load_state_dict(torch.load('decoder.dict'))"
      ],
      "metadata": {
        "id": "v8t0jZzO2h5N",
        "colab": {
          "base_uri": "https://localhost:8080/",
          "height": 375
        },
        "outputId": "d438f348-547a-4808-daf4-31b80a5269ba"
      },
      "execution_count": null,
      "outputs": [
        {
          "output_type": "error",
          "ename": "FileNotFoundError",
          "evalue": "ignored",
          "traceback": [
            "\u001b[0;31m---------------------------------------------------------------------------\u001b[0m",
            "\u001b[0;31mFileNotFoundError\u001b[0m                         Traceback (most recent call last)",
            "\u001b[0;32m<ipython-input-46-6fc05a379609>\u001b[0m in \u001b[0;36m<module>\u001b[0;34m()\u001b[0m\n\u001b[0;32m----> 1\u001b[0;31m \u001b[0mencoder\u001b[0m\u001b[0;34m.\u001b[0m\u001b[0mload_state_dict\u001b[0m\u001b[0;34m(\u001b[0m\u001b[0mtorch\u001b[0m\u001b[0;34m.\u001b[0m\u001b[0mload\u001b[0m\u001b[0;34m(\u001b[0m\u001b[0;34m'encoder.dict'\u001b[0m\u001b[0;34m)\u001b[0m\u001b[0;34m)\u001b[0m\u001b[0;34m\u001b[0m\u001b[0;34m\u001b[0m\u001b[0m\n\u001b[0m\u001b[1;32m      2\u001b[0m \u001b[0mdecoder\u001b[0m\u001b[0;34m.\u001b[0m\u001b[0mload_state_dict\u001b[0m\u001b[0;34m(\u001b[0m\u001b[0mtorch\u001b[0m\u001b[0;34m.\u001b[0m\u001b[0mload\u001b[0m\u001b[0;34m(\u001b[0m\u001b[0;34m'decoder.dict'\u001b[0m\u001b[0;34m)\u001b[0m\u001b[0;34m)\u001b[0m\u001b[0;34m\u001b[0m\u001b[0;34m\u001b[0m\u001b[0m\n",
            "\u001b[0;32m/usr/local/lib/python3.7/dist-packages/torch/serialization.py\u001b[0m in \u001b[0;36mload\u001b[0;34m(f, map_location, pickle_module, **pickle_load_args)\u001b[0m\n\u001b[1;32m    697\u001b[0m         \u001b[0mpickle_load_args\u001b[0m\u001b[0;34m[\u001b[0m\u001b[0;34m'encoding'\u001b[0m\u001b[0;34m]\u001b[0m \u001b[0;34m=\u001b[0m \u001b[0;34m'utf-8'\u001b[0m\u001b[0;34m\u001b[0m\u001b[0;34m\u001b[0m\u001b[0m\n\u001b[1;32m    698\u001b[0m \u001b[0;34m\u001b[0m\u001b[0m\n\u001b[0;32m--> 699\u001b[0;31m     \u001b[0;32mwith\u001b[0m \u001b[0m_open_file_like\u001b[0m\u001b[0;34m(\u001b[0m\u001b[0mf\u001b[0m\u001b[0;34m,\u001b[0m \u001b[0;34m'rb'\u001b[0m\u001b[0;34m)\u001b[0m \u001b[0;32mas\u001b[0m \u001b[0mopened_file\u001b[0m\u001b[0;34m:\u001b[0m\u001b[0;34m\u001b[0m\u001b[0;34m\u001b[0m\u001b[0m\n\u001b[0m\u001b[1;32m    700\u001b[0m         \u001b[0;32mif\u001b[0m \u001b[0m_is_zipfile\u001b[0m\u001b[0;34m(\u001b[0m\u001b[0mopened_file\u001b[0m\u001b[0;34m)\u001b[0m\u001b[0;34m:\u001b[0m\u001b[0;34m\u001b[0m\u001b[0;34m\u001b[0m\u001b[0m\n\u001b[1;32m    701\u001b[0m             \u001b[0;31m# The zipfile reader is going to advance the current file position.\u001b[0m\u001b[0;34m\u001b[0m\u001b[0;34m\u001b[0m\u001b[0;34m\u001b[0m\u001b[0m\n",
            "\u001b[0;32m/usr/local/lib/python3.7/dist-packages/torch/serialization.py\u001b[0m in \u001b[0;36m_open_file_like\u001b[0;34m(name_or_buffer, mode)\u001b[0m\n\u001b[1;32m    228\u001b[0m \u001b[0;32mdef\u001b[0m \u001b[0m_open_file_like\u001b[0m\u001b[0;34m(\u001b[0m\u001b[0mname_or_buffer\u001b[0m\u001b[0;34m,\u001b[0m \u001b[0mmode\u001b[0m\u001b[0;34m)\u001b[0m\u001b[0;34m:\u001b[0m\u001b[0;34m\u001b[0m\u001b[0;34m\u001b[0m\u001b[0m\n\u001b[1;32m    229\u001b[0m     \u001b[0;32mif\u001b[0m \u001b[0m_is_path\u001b[0m\u001b[0;34m(\u001b[0m\u001b[0mname_or_buffer\u001b[0m\u001b[0;34m)\u001b[0m\u001b[0;34m:\u001b[0m\u001b[0;34m\u001b[0m\u001b[0;34m\u001b[0m\u001b[0m\n\u001b[0;32m--> 230\u001b[0;31m         \u001b[0;32mreturn\u001b[0m \u001b[0m_open_file\u001b[0m\u001b[0;34m(\u001b[0m\u001b[0mname_or_buffer\u001b[0m\u001b[0;34m,\u001b[0m \u001b[0mmode\u001b[0m\u001b[0;34m)\u001b[0m\u001b[0;34m\u001b[0m\u001b[0;34m\u001b[0m\u001b[0m\n\u001b[0m\u001b[1;32m    231\u001b[0m     \u001b[0;32melse\u001b[0m\u001b[0;34m:\u001b[0m\u001b[0;34m\u001b[0m\u001b[0;34m\u001b[0m\u001b[0m\n\u001b[1;32m    232\u001b[0m         \u001b[0;32mif\u001b[0m \u001b[0;34m'w'\u001b[0m \u001b[0;32min\u001b[0m \u001b[0mmode\u001b[0m\u001b[0;34m:\u001b[0m\u001b[0;34m\u001b[0m\u001b[0;34m\u001b[0m\u001b[0m\n",
            "\u001b[0;32m/usr/local/lib/python3.7/dist-packages/torch/serialization.py\u001b[0m in \u001b[0;36m__init__\u001b[0;34m(self, name, mode)\u001b[0m\n\u001b[1;32m    209\u001b[0m \u001b[0;32mclass\u001b[0m \u001b[0m_open_file\u001b[0m\u001b[0;34m(\u001b[0m\u001b[0m_opener\u001b[0m\u001b[0;34m)\u001b[0m\u001b[0;34m:\u001b[0m\u001b[0;34m\u001b[0m\u001b[0;34m\u001b[0m\u001b[0m\n\u001b[1;32m    210\u001b[0m     \u001b[0;32mdef\u001b[0m \u001b[0m__init__\u001b[0m\u001b[0;34m(\u001b[0m\u001b[0mself\u001b[0m\u001b[0;34m,\u001b[0m \u001b[0mname\u001b[0m\u001b[0;34m,\u001b[0m \u001b[0mmode\u001b[0m\u001b[0;34m)\u001b[0m\u001b[0;34m:\u001b[0m\u001b[0;34m\u001b[0m\u001b[0;34m\u001b[0m\u001b[0m\n\u001b[0;32m--> 211\u001b[0;31m         \u001b[0msuper\u001b[0m\u001b[0;34m(\u001b[0m\u001b[0m_open_file\u001b[0m\u001b[0;34m,\u001b[0m \u001b[0mself\u001b[0m\u001b[0;34m)\u001b[0m\u001b[0;34m.\u001b[0m\u001b[0m__init__\u001b[0m\u001b[0;34m(\u001b[0m\u001b[0mopen\u001b[0m\u001b[0;34m(\u001b[0m\u001b[0mname\u001b[0m\u001b[0;34m,\u001b[0m \u001b[0mmode\u001b[0m\u001b[0;34m)\u001b[0m\u001b[0;34m)\u001b[0m\u001b[0;34m\u001b[0m\u001b[0;34m\u001b[0m\u001b[0m\n\u001b[0m\u001b[1;32m    212\u001b[0m \u001b[0;34m\u001b[0m\u001b[0m\n\u001b[1;32m    213\u001b[0m     \u001b[0;32mdef\u001b[0m \u001b[0m__exit__\u001b[0m\u001b[0;34m(\u001b[0m\u001b[0mself\u001b[0m\u001b[0;34m,\u001b[0m \u001b[0;34m*\u001b[0m\u001b[0margs\u001b[0m\u001b[0;34m)\u001b[0m\u001b[0;34m:\u001b[0m\u001b[0;34m\u001b[0m\u001b[0;34m\u001b[0m\u001b[0m\n",
            "\u001b[0;31mFileNotFoundError\u001b[0m: [Errno 2] No such file or directory: 'encoder.dict'"
          ]
        }
      ]
    },
    {
      "cell_type": "code",
      "execution_count": null,
      "metadata": {
        "id": "CmYNsFXx9qdN",
        "colab": {
          "base_uri": "https://localhost:8080/",
          "height": 419
        },
        "outputId": "68976e5a-bd0c-4dfd-f14a-93e7fc67a095"
      },
      "outputs": [
        {
          "output_type": "error",
          "ename": "ModuleNotFoundError",
          "evalue": "ignored",
          "traceback": [
            "\u001b[0;31m---------------------------------------------------------------------------\u001b[0m",
            "\u001b[0;31mModuleNotFoundError\u001b[0m                       Traceback (most recent call last)",
            "\u001b[0;32m<ipython-input-47-415ee2b49c49>\u001b[0m in \u001b[0;36m<module>\u001b[0;34m()\u001b[0m\n\u001b[0;32m----> 1\u001b[0;31m \u001b[0;32mfrom\u001b[0m \u001b[0mtorchmetrics\u001b[0m\u001b[0;34m.\u001b[0m\u001b[0mfunctional\u001b[0m \u001b[0;32mimport\u001b[0m \u001b[0mbleu_score\u001b[0m\u001b[0;34m\u001b[0m\u001b[0;34m\u001b[0m\u001b[0m\n\u001b[0m\u001b[1;32m      2\u001b[0m \u001b[0mpreds\u001b[0m \u001b[0;34m=\u001b[0m \u001b[0;34m[\u001b[0m\u001b[0;34m'the cat is on the mat'\u001b[0m\u001b[0;34m]\u001b[0m\u001b[0;34m\u001b[0m\u001b[0;34m\u001b[0m\u001b[0m\n\u001b[1;32m      3\u001b[0m \u001b[0mtarget\u001b[0m \u001b[0;34m=\u001b[0m \u001b[0;34m[\u001b[0m\u001b[0;34m[\u001b[0m\u001b[0;34m'there is a cat on the mat'\u001b[0m\u001b[0;34m,\u001b[0m \u001b[0;34m'a cat is on the mat'\u001b[0m\u001b[0;34m]\u001b[0m\u001b[0;34m]\u001b[0m\u001b[0;34m\u001b[0m\u001b[0;34m\u001b[0m\u001b[0m\n\u001b[1;32m      4\u001b[0m \u001b[0mbleu_score\u001b[0m\u001b[0;34m(\u001b[0m\u001b[0mpreds\u001b[0m\u001b[0;34m,\u001b[0m \u001b[0mtarget\u001b[0m\u001b[0;34m)\u001b[0m\u001b[0;34m\u001b[0m\u001b[0;34m\u001b[0m\u001b[0m\n",
            "\u001b[0;31mModuleNotFoundError\u001b[0m: No module named 'torchmetrics'",
            "",
            "\u001b[0;31m---------------------------------------------------------------------------\u001b[0;32m\nNOTE: If your import is failing due to a missing package, you can\nmanually install dependencies using either !pip or !apt.\n\nTo view examples of installing some common dependencies, click the\n\"Open Examples\" button below.\n\u001b[0;31m---------------------------------------------------------------------------\u001b[0m\n"
          ],
          "errorDetails": {
            "actions": [
              {
                "action": "open_url",
                "actionText": "Open Examples",
                "url": "/notebooks/snippets/importing_libraries.ipynb"
              }
            ]
          }
        }
      ],
      "source": [
        "from torchmetrics.functional import bleu_score\n",
        "preds = ['the cat is on the mat']\n",
        "target = [['there is a cat on the mat', 'a cat is on the mat']]\n",
        "bleu_score(preds, target)"
      ]
    },
    {
      "cell_type": "markdown",
      "metadata": {
        "id": "T0Kbnhcf-Tjw"
      },
      "source": [
        "# Task 4: Neural Machine Translation with Attention (30%)\n",
        "In this task, improve your models from the last step by using the attention mechanism in your model. Compare the achieved results with and without attention mechanism in your report. Also visualize the attention weights for a sample instance and highlight it in your report."
      ]
    },
    {
      "cell_type": "markdown",
      "source": [
        "## Attention Model"
      ],
      "metadata": {
        "id": "1mlbHjg6kd7k"
      }
    },
    {
      "cell_type": "code",
      "execution_count": null,
      "metadata": {
        "id": "tq2vCGZB-WLq"
      },
      "outputs": [],
      "source": [
        "class AttEncoder(nn.Module):\n",
        "  def __init__(self, input_size, hidden_size, num_layers=1):\n",
        "    super(AttEncoder, self).__init__()\n",
        "    self.input_size = input_size\n",
        "    self.hidden_size = hidden_size\n",
        "    self.num_layers = num_layers\n",
        "    self.rnn = nn.RNN(input_size, hidden_size, num_layers, batch_first=True)\n",
        "\n",
        "  def forward(self, x, device):\n",
        "    h_0 = self.initHidden(x.size()[0])\n",
        "    o, h = self.rnn(x, h_0)\n",
        "    return o, h\n",
        "\n",
        "  def initHidden(self, batch_size):\n",
        "    return torch.zeros(self.num_layers, batch_size, self.hidden_size).to(device)\n",
        "\n",
        "class AttDecoder(nn.Module):\n",
        "  def __init__(self, input_size, hidden_size, output_size, num_layers=1):\n",
        "    super(AttDecoder, self).__init__()\n",
        "    self.input_size = input_size\n",
        "    self.hidden_size = hidden_size\n",
        "    self.output_size = output_size\n",
        "    self.num_layers = num_layers\n",
        "    self.rnn = nn.RNN(input_size, hidden_size, num_layers, batch_first=True)\n",
        "    self.linear = nn.Linear(hidden_size, output_size)\n",
        "\n",
        "  def forward(self, x, h_0, target, encoder_o):\n",
        "    batch_size = target.size()[0]\n",
        "    sent_length = target.size()[1]\n",
        "    outputs = torch.zeros(sent_length, batch_size, self.output_size).to(device)\n",
        "    h = h_0\n",
        "    for t in range(target.size()[1]):\n",
        "      # attention score as dot-product\n",
        "      att_scores = torch.bmm(\n",
        "          h.view(batch_size, 1, hidden_size), \n",
        "          encoder_o.view(batch_size, hidden_size, -1)\n",
        "          ) # att_scores size: batch_size x 1 x (sequ_length of encoder input)\n",
        "      att_weights = nn.functional.softmax(att_scores) \n",
        "      att_output = torch.bmm(att_weights, encoder_o) # att_output size: batch_size x 1 x hidden_size\n",
        "      \n",
        "      o, h = self.rnn(x, att_output.view(1, batch_size, -1))\n",
        "      x = self.linear(o)\n",
        "      outputs[t] = x.view(1, batch_size, -1)\n",
        "    \n",
        "    return outputs.view(batch_size, sent_length, self.output_size), att_weights"
      ]
    },
    {
      "cell_type": "code",
      "source": [
        "def attPredict(input, target, encoder, decoder, sos_token):\n",
        "  batch_size = input.size()[0]\n",
        "        \n",
        "  # encode batch\n",
        "  encoder_o, encoder_h = encoder(input, device)\n",
        "  \n",
        "  # prepare decoder inputs       \n",
        "  decoder_in = sos_token.repeat(batch_size, 1).view(batch_size, 1, -1).to(device)\n",
        "  decoder_h = encoder_h\n",
        "\n",
        "  #decoder batch\n",
        "  decoder_o = decoder(decoder_in, decoder_h, target, encoder_o)\n",
        "\n",
        "  return decoder_o"
      ],
      "metadata": {
        "id": "_DDa3SodvId6"
      },
      "execution_count": null,
      "outputs": []
    },
    {
      "cell_type": "code",
      "source": [
        "def attTrain(train_dl, val_dl, encoder, decoder, encoder_opt, decoder_opt, criterion, sos_token, epochs=10):\n",
        "  for e in range(epochs):\n",
        "    print(\"Epoch: \", e)\n",
        "    acc_loss = 0\n",
        "    last_val_loss = 1e5 # big number\n",
        "\n",
        "    # train\n",
        "    for b, train_data in enumerate(train_dl):\n",
        "      # set gradients to zero\n",
        "      encoder_opt.zero_grad()\n",
        "      decoder_opt.zero_grad()\n",
        "\n",
        "      # input and target language\n",
        "      lang_A, lang_B = train_data[0].to(device), train_data[1].to(device)\n",
        "\n",
        "      # predict\n",
        "      output, _ = attPredict(input=lang_A, target=lang_B, encoder=encoder, decoder=decoder, sos_token=sos_token)\n",
        "  \n",
        "      # compute and print loss\n",
        "      loss = criterion(output, lang_B)\n",
        "      acc_loss += loss\n",
        "      avg_loss = acc_loss/(b+1)\n",
        "      if b%100==0 and b>0:\n",
        "        print(f'--> Average loss after {b} batches: {avg_loss}')\n",
        "      \n",
        "      # backpropagation\n",
        "      loss.backward()\n",
        "      encoder_opt.step()\n",
        "      decoder_opt.step()\n",
        "\n",
        "    # validation\n",
        "    last_val_loss = 1e5 # just a big number\n",
        "    acc_val_loss = 0\n",
        "    with torch.no_grad():\n",
        "      for b, val_data in enumerate(val_dl):\n",
        "        # input and target language\n",
        "        lang_A, lang_B = val_data[0].to(device), val_data[1].to(device)\n",
        "\n",
        "        # predict\n",
        "        output = predict(input=lang_A, target=lang_B, encoder=encoder, decoder=decoder, sos_token=sos_token)\n",
        "    \n",
        "        # compute loss\n",
        "        val_loss = criterion(output, lang_B)\n",
        "        acc_val_loss += val_loss\n",
        "        avg_val_loss = acc_val_loss/(b+1)\n",
        "      \n",
        "      # if avg val loss better than last epoch, save model\n",
        "      if avg_val_loss < last_val_loss:\n",
        "        last_val_loss = val_loss\n",
        "        torch.save(encoder.state_dict(), checkpoint_dir/'encoder.dict')\n",
        "        torch.save(decoder.state_dict(), checkpoint_dir/'decoder.dict')\n",
        "\n",
        "      print(f'End of epoch {e} ---- loss:{avg_loss} ---- val_loss:{avg_val_loss}')\n"
      ],
      "metadata": {
        "id": "KVDNY08kvT9g"
      },
      "execution_count": null,
      "outputs": []
    },
    {
      "cell_type": "code",
      "source": [
        "# Hyper Parameters\n",
        "input_size = VECTOR_SIZE\n",
        "target_size = VECTOR_SIZE\n",
        "hidden_size = 512\n",
        "\n",
        "# Model set-up\n",
        "encoder = AttEncoder(input_size, hidden_size).to(device)\n",
        "decoder = AttDecoder(input_size, hidden_size, target_size).to(device)\n",
        "\n",
        "encoder_opt = optim.Adam(encoder.parameters())\n",
        "decoder_opt = optim.Adam(decoder.parameters())\n",
        "\n",
        "criterion = nn.MSELoss()\n",
        "\n",
        "w2v_sg_it_model = Word2Vec.load(str(checkpoint_dir/\"w2v_sg_it_model\"))\n",
        "sos_token = torch.FloatTensor(w2v_sg_it_model.wv['<SOS>'])\n",
        "\n",
        "# Train\n",
        "attTrain(trainLoader_sg, \n",
        "      valLoader_sg, \n",
        "      encoder, \n",
        "      decoder, \n",
        "      encoder_opt, \n",
        "      decoder_opt, \n",
        "      criterion,\n",
        "      sos_token)"
      ],
      "metadata": {
        "colab": {
          "base_uri": "https://localhost:8080/",
          "height": 514
        },
        "id": "1UehRuAauuXh",
        "outputId": "715e1dd6-eed9-42f9-c1a6-16f95078afe7"
      },
      "execution_count": null,
      "outputs": [
        {
          "output_type": "stream",
          "name": "stdout",
          "text": [
            "Epoch:  0\n"
          ]
        },
        {
          "output_type": "stream",
          "name": "stderr",
          "text": [
            "/usr/local/lib/python3.7/dist-packages/ipykernel_launcher.py:16: UserWarning: Creating a tensor from a list of numpy.ndarrays is extremely slow. Please consider converting the list to a single numpy.ndarray with numpy.array() before converting to a tensor. (Triggered internally at  ../torch/csrc/utils/tensor_new.cpp:201.)\n",
            "  app.launch_new_instance()\n"
          ]
        },
        {
          "output_type": "error",
          "ename": "RuntimeError",
          "evalue": "ignored",
          "traceback": [
            "\u001b[0;31m---------------------------------------------------------------------------\u001b[0m",
            "\u001b[0;31mRuntimeError\u001b[0m                              Traceback (most recent call last)",
            "\u001b[0;32m<ipython-input-51-911e5f95440f>\u001b[0m in \u001b[0;36m<module>\u001b[0;34m()\u001b[0m\n\u001b[1;32m     24\u001b[0m       \u001b[0mdecoder_opt\u001b[0m\u001b[0;34m,\u001b[0m\u001b[0;34m\u001b[0m\u001b[0;34m\u001b[0m\u001b[0m\n\u001b[1;32m     25\u001b[0m       \u001b[0mcriterion\u001b[0m\u001b[0;34m,\u001b[0m\u001b[0;34m\u001b[0m\u001b[0;34m\u001b[0m\u001b[0m\n\u001b[0;32m---> 26\u001b[0;31m       sos_token)\n\u001b[0m",
            "\u001b[0;32m<ipython-input-50-8174d010a07e>\u001b[0m in \u001b[0;36mattTrain\u001b[0;34m(train_dl, val_dl, encoder, decoder, encoder_opt, decoder_opt, criterion, sos_token, epochs)\u001b[0m\n\u001b[1;32m     15\u001b[0m \u001b[0;34m\u001b[0m\u001b[0m\n\u001b[1;32m     16\u001b[0m       \u001b[0;31m# predict\u001b[0m\u001b[0;34m\u001b[0m\u001b[0;34m\u001b[0m\u001b[0;34m\u001b[0m\u001b[0m\n\u001b[0;32m---> 17\u001b[0;31m       \u001b[0moutput\u001b[0m\u001b[0;34m,\u001b[0m \u001b[0m_\u001b[0m \u001b[0;34m=\u001b[0m \u001b[0mattPredict\u001b[0m\u001b[0;34m(\u001b[0m\u001b[0minput\u001b[0m\u001b[0;34m=\u001b[0m\u001b[0mlang_A\u001b[0m\u001b[0;34m,\u001b[0m \u001b[0mtarget\u001b[0m\u001b[0;34m=\u001b[0m\u001b[0mlang_B\u001b[0m\u001b[0;34m,\u001b[0m \u001b[0mencoder\u001b[0m\u001b[0;34m=\u001b[0m\u001b[0mencoder\u001b[0m\u001b[0;34m,\u001b[0m \u001b[0mdecoder\u001b[0m\u001b[0;34m=\u001b[0m\u001b[0mdecoder\u001b[0m\u001b[0;34m,\u001b[0m \u001b[0msos_token\u001b[0m\u001b[0;34m=\u001b[0m\u001b[0msos_token\u001b[0m\u001b[0;34m)\u001b[0m\u001b[0;34m\u001b[0m\u001b[0;34m\u001b[0m\u001b[0m\n\u001b[0m\u001b[1;32m     18\u001b[0m \u001b[0;34m\u001b[0m\u001b[0m\n\u001b[1;32m     19\u001b[0m       \u001b[0;31m# compute and print loss\u001b[0m\u001b[0;34m\u001b[0m\u001b[0;34m\u001b[0m\u001b[0;34m\u001b[0m\u001b[0m\n",
            "\u001b[0;32m<ipython-input-49-1a3809322258>\u001b[0m in \u001b[0;36mattPredict\u001b[0;34m(input, target, encoder, decoder, sos_token)\u001b[0m\n\u001b[1;32m     10\u001b[0m \u001b[0;34m\u001b[0m\u001b[0m\n\u001b[1;32m     11\u001b[0m   \u001b[0;31m#decoder batch\u001b[0m\u001b[0;34m\u001b[0m\u001b[0;34m\u001b[0m\u001b[0;34m\u001b[0m\u001b[0m\n\u001b[0;32m---> 12\u001b[0;31m   \u001b[0mdecoder_o\u001b[0m \u001b[0;34m=\u001b[0m \u001b[0mdecoder\u001b[0m\u001b[0;34m(\u001b[0m\u001b[0mdecoder_in\u001b[0m\u001b[0;34m,\u001b[0m \u001b[0mdecoder_h\u001b[0m\u001b[0;34m,\u001b[0m \u001b[0mtarget\u001b[0m\u001b[0;34m,\u001b[0m \u001b[0mencoder_o\u001b[0m\u001b[0;34m)\u001b[0m\u001b[0;34m\u001b[0m\u001b[0;34m\u001b[0m\u001b[0m\n\u001b[0m\u001b[1;32m     13\u001b[0m \u001b[0;34m\u001b[0m\u001b[0m\n\u001b[1;32m     14\u001b[0m   \u001b[0;32mreturn\u001b[0m \u001b[0mdecoder_o\u001b[0m\u001b[0;34m\u001b[0m\u001b[0;34m\u001b[0m\u001b[0m\n",
            "\u001b[0;32m/usr/local/lib/python3.7/dist-packages/torch/nn/modules/module.py\u001b[0m in \u001b[0;36m_call_impl\u001b[0;34m(self, *input, **kwargs)\u001b[0m\n\u001b[1;32m   1128\u001b[0m         if not (self._backward_hooks or self._forward_hooks or self._forward_pre_hooks or _global_backward_hooks\n\u001b[1;32m   1129\u001b[0m                 or _global_forward_hooks or _global_forward_pre_hooks):\n\u001b[0;32m-> 1130\u001b[0;31m             \u001b[0;32mreturn\u001b[0m \u001b[0mforward_call\u001b[0m\u001b[0;34m(\u001b[0m\u001b[0;34m*\u001b[0m\u001b[0minput\u001b[0m\u001b[0;34m,\u001b[0m \u001b[0;34m**\u001b[0m\u001b[0mkwargs\u001b[0m\u001b[0;34m)\u001b[0m\u001b[0;34m\u001b[0m\u001b[0;34m\u001b[0m\u001b[0m\n\u001b[0m\u001b[1;32m   1131\u001b[0m         \u001b[0;31m# Do not call functions when jit is used\u001b[0m\u001b[0;34m\u001b[0m\u001b[0;34m\u001b[0m\u001b[0;34m\u001b[0m\u001b[0m\n\u001b[1;32m   1132\u001b[0m         \u001b[0mfull_backward_hooks\u001b[0m\u001b[0;34m,\u001b[0m \u001b[0mnon_full_backward_hooks\u001b[0m \u001b[0;34m=\u001b[0m \u001b[0;34m[\u001b[0m\u001b[0;34m]\u001b[0m\u001b[0;34m,\u001b[0m \u001b[0;34m[\u001b[0m\u001b[0;34m]\u001b[0m\u001b[0;34m\u001b[0m\u001b[0;34m\u001b[0m\u001b[0m\n",
            "\u001b[0;32m<ipython-input-48-758d638ffc80>\u001b[0m in \u001b[0;36mforward\u001b[0;34m(self, x, h_0, target, encoder_o)\u001b[0m\n\u001b[1;32m     34\u001b[0m       att_scores = torch.bmm(\n\u001b[1;32m     35\u001b[0m           \u001b[0mh\u001b[0m\u001b[0;34m.\u001b[0m\u001b[0mview\u001b[0m\u001b[0;34m(\u001b[0m\u001b[0mbatch_size\u001b[0m\u001b[0;34m,\u001b[0m \u001b[0;36m1\u001b[0m\u001b[0;34m,\u001b[0m \u001b[0mhidden_size\u001b[0m\u001b[0;34m)\u001b[0m\u001b[0;34m,\u001b[0m\u001b[0;34m\u001b[0m\u001b[0;34m\u001b[0m\u001b[0m\n\u001b[0;32m---> 36\u001b[0;31m           \u001b[0mencoder_o\u001b[0m\u001b[0;34m.\u001b[0m\u001b[0mview\u001b[0m\u001b[0;34m(\u001b[0m\u001b[0mbatch_size\u001b[0m\u001b[0;34m,\u001b[0m \u001b[0mhidden_size\u001b[0m\u001b[0;34m,\u001b[0m \u001b[0;34m-\u001b[0m\u001b[0;36m1\u001b[0m\u001b[0;34m)\u001b[0m\u001b[0;34m\u001b[0m\u001b[0;34m\u001b[0m\u001b[0m\n\u001b[0m\u001b[1;32m     37\u001b[0m           ) # att_scores size: batch_size x 1 x (sequ_length of encoder input)\n\u001b[1;32m     38\u001b[0m       \u001b[0matt_weights\u001b[0m \u001b[0;34m=\u001b[0m \u001b[0mnn\u001b[0m\u001b[0;34m.\u001b[0m\u001b[0mfunctional\u001b[0m\u001b[0;34m.\u001b[0m\u001b[0msoftmax\u001b[0m\u001b[0;34m(\u001b[0m\u001b[0matt_scores\u001b[0m\u001b[0;34m)\u001b[0m\u001b[0;34m\u001b[0m\u001b[0;34m\u001b[0m\u001b[0m\n",
            "\u001b[0;31mRuntimeError\u001b[0m: view size is not compatible with input tensor's size and stride (at least one dimension spans across two contiguous subspaces). Use .reshape(...) instead."
          ]
        }
      ]
    },
    {
      "cell_type": "markdown",
      "metadata": {
        "id": "6QP0rW0x-cu0"
      },
      "source": [
        "# Bonus Task: Pivot Translation (+30%)\n",
        "A pivot language, sometimes also called a bridge language, is an artificial or natural language used as an intermediary language for translation between many different languages – to translate between any pair of languages A and B, one translates A to the pivot language P, then from P to B. For this task, you should develop a neural machine translation model for translating Italian to Swedish, using English as the pivot language. You can download the Swedish-English parallel corpus from here."
      ]
    },
    {
      "cell_type": "code",
      "execution_count": null,
      "metadata": {
        "id": "oyaOb3kW-hxQ"
      },
      "outputs": [],
      "source": [
        ""
      ]
    }
  ],
  "metadata": {
    "accelerator": "GPU",
    "colab": {
      "collapsed_sections": [],
      "name": "NLP-project-2.ipynb",
      "provenance": [],
      "toc_visible": true
    },
    "gpuClass": "standard",
    "kernelspec": {
      "display_name": "Python 3",
      "name": "python3"
    },
    "language_info": {
      "name": "python"
    }
  },
  "nbformat": 4,
  "nbformat_minor": 0
}