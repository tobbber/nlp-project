{
  "cells": [
    {
      "cell_type": "markdown",
      "metadata": {
        "id": "knFzO2Y0e6Kf"
      },
      "source": [
        "## Libraries"
      ]
    },
    {
      "cell_type": "code",
      "execution_count": 2,
      "metadata": {
        "colab": {
          "base_uri": "https://localhost:8080/"
        },
        "id": "DwPgpl0d7OT3",
        "outputId": "475fa98e-e396-4dad-c7f5-cad25e2966f8"
      },
      "outputs": [
        {
          "output_type": "stream",
          "name": "stdout",
          "text": [
            "Looking in indexes: https://pypi.org/simple, https://us-python.pkg.dev/colab-wheels/public/simple/\n",
            "Collecting contractions\n",
            "  Downloading contractions-0.1.72-py2.py3-none-any.whl (8.3 kB)\n",
            "Collecting textsearch>=0.0.21\n",
            "  Downloading textsearch-0.0.21-py2.py3-none-any.whl (7.5 kB)\n",
            "Collecting pyahocorasick\n",
            "  Downloading pyahocorasick-1.4.4-cp37-cp37m-manylinux_2_17_x86_64.manylinux2014_x86_64.whl (106 kB)\n",
            "\u001b[K     |████████████████████████████████| 106 kB 6.3 MB/s \n",
            "\u001b[?25hCollecting anyascii\n",
            "  Downloading anyascii-0.3.1-py3-none-any.whl (287 kB)\n",
            "\u001b[K     |████████████████████████████████| 287 kB 32.2 MB/s \n",
            "\u001b[?25hInstalling collected packages: pyahocorasick, anyascii, textsearch, contractions\n",
            "Successfully installed anyascii-0.3.1 contractions-0.1.72 pyahocorasick-1.4.4 textsearch-0.0.21\n"
          ]
        }
      ],
      "source": [
        "!pip install contractions"
      ]
    },
    {
      "cell_type": "code",
      "execution_count": 3,
      "metadata": {
        "colab": {
          "base_uri": "https://localhost:8080/"
        },
        "id": "Sq7g1_rB_4AH",
        "outputId": "2c81ff85-a237-4cd2-a052-e8548700a8d1"
      },
      "outputs": [
        {
          "output_type": "stream",
          "name": "stderr",
          "text": [
            "[nltk_data] Downloading package punkt to /root/nltk_data...\n",
            "[nltk_data]   Unzipping tokenizers/punkt.zip.\n"
          ]
        }
      ],
      "source": [
        "import pandas as pd\n",
        "import matplotlib.pyplot as plt\n",
        "import pprint\n",
        "from collections import Counter\n",
        "import nltk\n",
        "nltk.download('punkt')\n",
        "from nltk.tokenize import sent_tokenize, word_tokenize\n",
        "import contractions\n",
        "import numpy as np\n",
        "import re\n",
        "import torch\n",
        "import torch.nn as nn\n",
        "import torch.optim as optim\n",
        "import multiprocessing\n",
        "from gensim.models import Word2Vec\n",
        "from torch.utils.data import DataLoader, Dataset\n",
        "from sklearn.model_selection import train_test_split\n",
        "from torch.nn.utils.rnn import pad_sequence\n",
        "\n",
        "from pathlib import Path\n",
        "import shutil\n",
        "import requests"
      ]
    },
    {
      "cell_type": "code",
      "source": [
        "try: \n",
        "    from google.colab import drive\n",
        "    drive.mount('/content/drive')\n",
        "    project_dir = Path('/content/drive/MyDrive/NLP_project_2/')    \n",
        "except ModuleNotFoundError: # running on local machine\n",
        "    project_dir = Path.cwd()\n",
        "\n",
        "print(f'using project directory: \"{project_dir}\"')"
      ],
      "metadata": {
        "id": "gL9oWD5LuyIG"
      },
      "execution_count": null,
      "outputs": []
    },
    {
      "cell_type": "markdown",
      "metadata": {
        "id": "5Xj_6At1GMt5"
      },
      "source": [
        "## Import Data"
      ]
    },
    {
      "cell_type": "code",
      "source": [
        "def download_file(url, dest_dir, force=False):\n",
        "    url = \"https://www.statmt.org/europarl/v7/it-en.tgz\"\n",
        "    dest_file = Path(dest_dir, url.split('/')[-1])\n",
        "    if dest_file.is_file() and not force:\n",
        "        print(f'File {dest_file} already exists, use force=True to download anyways')\n",
        "        return dest_file\n",
        "    \n",
        "    with requests.get(url, stream=True) as resp: \n",
        "        bytes_dl = 0\n",
        "        total_bytes = int(resp.headers.get('content-length', 0))\n",
        "        with open(dest_file, 'wb') as dest:\n",
        "            for chunk in resp.iter_content(8196):\n",
        "                bytes_dl += len(chunk)\n",
        "                print(f\"\\rdownloading... {bytes_dl/total_bytes:.2%}\", end='', flush=True)\n",
        "                dest.write(chunk)\n",
        "    return dest_file"
      ],
      "metadata": {
        "id": "EMWWfRPBsys8"
      },
      "execution_count": 5,
      "outputs": []
    },
    {
      "cell_type": "code",
      "source": [
        "source_url= \"https://www.statmt.org/europarl/v7/it-en.tgz\"\n",
        "\n",
        "# download tar file\n",
        "tar_file = download_file(source_url, project_dir/'data')\n",
        "# unzip tar\n",
        "shutil.unpack_archive(tar_file, project_dir/'data')\n",
        "\n",
        "en_corpus_file = project_dir/'data'/'europarl-v7.it-en.en'\n",
        "it_corpus_file = project_dir/'data'/'europarl-v7.it-en.it'\n",
        "\n",
        "checkpoint_dir = project_dir / 'checkpoints'\n",
        "checkpoint_dir.mkdir(exist_ok=True)\n",
        "\n",
        "assert en_corpus_file.is_file()\n",
        "assert it_corpus_file.is_file()"
      ],
      "metadata": {
        "colab": {
          "base_uri": "https://localhost:8080/"
        },
        "id": "yGpawAPfu1tQ",
        "outputId": "d6ef1202-eacf-4f0a-9419-efde2f1953ff"
      },
      "execution_count": 37,
      "outputs": [
        {
          "output_type": "stream",
          "name": "stdout",
          "text": [
            "File /content/drive/MyDrive/NLP_project_2/data/it-en.tgz already exists, use force=True to download anyways\n"
          ]
        }
      ]
    },
    {
      "cell_type": "code",
      "execution_count": 38,
      "metadata": {
        "id": "pYiFXbZA2AK6"
      },
      "outputs": [],
      "source": [
        "def read_file(file_name, col_name):\n",
        "  with open(file_name, 'r', encoding='utf-8') as f:\n",
        "    return pd.DataFrame(f.readlines(), columns=[col_name])"
      ]
    },
    {
      "cell_type": "code",
      "execution_count": 9,
      "metadata": {
        "colab": {
          "base_uri": "https://localhost:8080/",
          "height": 206
        },
        "id": "Gh3esufa8eTC",
        "outputId": "75f7d43b-0468-4899-8438-bf54281bcead"
      },
      "outputs": [
        {
          "output_type": "display_data",
          "data": {
            "text/plain": [
              "                                                        en  \\\n",
              "1722341  Question No 4 by Felipe Camisón Asensio (H-039...   \n",
              "510465   The Commission’s proposal seeks to strike a ba...   \n",
              "428042   There are many ways in which this can be recti...   \n",
              "956103   At the same time we have rehabilitated almost ...   \n",
              "336865   There is a saying: 'do not bite off more than ...   \n",
              "\n",
              "                                                        it  \n",
              "1722341  Annuncio l'interrogazione n. 4, dell'onorevole...  \n",
              "510465   La proposta della Commissione tenta di stabili...  \n",
              "428042   Vi sono molti modi per correggere questa situa...  \n",
              "956103   Allo stesso tempo, abbiamo reintegrato quasi 2...  \n",
              "336865   Esiste un proverbio spagnolo che dice: 'chi tr...  "
            ],
            "text/html": [
              "\n",
              "  <div id=\"df-cd52eebc-d9a9-48eb-88e3-2a78ecd08b4b\">\n",
              "    <div class=\"colab-df-container\">\n",
              "      <div>\n",
              "<style scoped>\n",
              "    .dataframe tbody tr th:only-of-type {\n",
              "        vertical-align: middle;\n",
              "    }\n",
              "\n",
              "    .dataframe tbody tr th {\n",
              "        vertical-align: top;\n",
              "    }\n",
              "\n",
              "    .dataframe thead th {\n",
              "        text-align: right;\n",
              "    }\n",
              "</style>\n",
              "<table border=\"1\" class=\"dataframe\">\n",
              "  <thead>\n",
              "    <tr style=\"text-align: right;\">\n",
              "      <th></th>\n",
              "      <th>en</th>\n",
              "      <th>it</th>\n",
              "    </tr>\n",
              "  </thead>\n",
              "  <tbody>\n",
              "    <tr>\n",
              "      <th>1722341</th>\n",
              "      <td>Question No 4 by Felipe Camisón Asensio (H-039...</td>\n",
              "      <td>Annuncio l'interrogazione n. 4, dell'onorevole...</td>\n",
              "    </tr>\n",
              "    <tr>\n",
              "      <th>510465</th>\n",
              "      <td>The Commission’s proposal seeks to strike a ba...</td>\n",
              "      <td>La proposta della Commissione tenta di stabili...</td>\n",
              "    </tr>\n",
              "    <tr>\n",
              "      <th>428042</th>\n",
              "      <td>There are many ways in which this can be recti...</td>\n",
              "      <td>Vi sono molti modi per correggere questa situa...</td>\n",
              "    </tr>\n",
              "    <tr>\n",
              "      <th>956103</th>\n",
              "      <td>At the same time we have rehabilitated almost ...</td>\n",
              "      <td>Allo stesso tempo, abbiamo reintegrato quasi 2...</td>\n",
              "    </tr>\n",
              "    <tr>\n",
              "      <th>336865</th>\n",
              "      <td>There is a saying: 'do not bite off more than ...</td>\n",
              "      <td>Esiste un proverbio spagnolo che dice: 'chi tr...</td>\n",
              "    </tr>\n",
              "  </tbody>\n",
              "</table>\n",
              "</div>\n",
              "      <button class=\"colab-df-convert\" onclick=\"convertToInteractive('df-cd52eebc-d9a9-48eb-88e3-2a78ecd08b4b')\"\n",
              "              title=\"Convert this dataframe to an interactive table.\"\n",
              "              style=\"display:none;\">\n",
              "        \n",
              "  <svg xmlns=\"http://www.w3.org/2000/svg\" height=\"24px\"viewBox=\"0 0 24 24\"\n",
              "       width=\"24px\">\n",
              "    <path d=\"M0 0h24v24H0V0z\" fill=\"none\"/>\n",
              "    <path d=\"M18.56 5.44l.94 2.06.94-2.06 2.06-.94-2.06-.94-.94-2.06-.94 2.06-2.06.94zm-11 1L8.5 8.5l.94-2.06 2.06-.94-2.06-.94L8.5 2.5l-.94 2.06-2.06.94zm10 10l.94 2.06.94-2.06 2.06-.94-2.06-.94-.94-2.06-.94 2.06-2.06.94z\"/><path d=\"M17.41 7.96l-1.37-1.37c-.4-.4-.92-.59-1.43-.59-.52 0-1.04.2-1.43.59L10.3 9.45l-7.72 7.72c-.78.78-.78 2.05 0 2.83L4 21.41c.39.39.9.59 1.41.59.51 0 1.02-.2 1.41-.59l7.78-7.78 2.81-2.81c.8-.78.8-2.07 0-2.86zM5.41 20L4 18.59l7.72-7.72 1.47 1.35L5.41 20z\"/>\n",
              "  </svg>\n",
              "      </button>\n",
              "      \n",
              "  <style>\n",
              "    .colab-df-container {\n",
              "      display:flex;\n",
              "      flex-wrap:wrap;\n",
              "      gap: 12px;\n",
              "    }\n",
              "\n",
              "    .colab-df-convert {\n",
              "      background-color: #E8F0FE;\n",
              "      border: none;\n",
              "      border-radius: 50%;\n",
              "      cursor: pointer;\n",
              "      display: none;\n",
              "      fill: #1967D2;\n",
              "      height: 32px;\n",
              "      padding: 0 0 0 0;\n",
              "      width: 32px;\n",
              "    }\n",
              "\n",
              "    .colab-df-convert:hover {\n",
              "      background-color: #E2EBFA;\n",
              "      box-shadow: 0px 1px 2px rgba(60, 64, 67, 0.3), 0px 1px 3px 1px rgba(60, 64, 67, 0.15);\n",
              "      fill: #174EA6;\n",
              "    }\n",
              "\n",
              "    [theme=dark] .colab-df-convert {\n",
              "      background-color: #3B4455;\n",
              "      fill: #D2E3FC;\n",
              "    }\n",
              "\n",
              "    [theme=dark] .colab-df-convert:hover {\n",
              "      background-color: #434B5C;\n",
              "      box-shadow: 0px 1px 3px 1px rgba(0, 0, 0, 0.15);\n",
              "      filter: drop-shadow(0px 1px 2px rgba(0, 0, 0, 0.3));\n",
              "      fill: #FFFFFF;\n",
              "    }\n",
              "  </style>\n",
              "\n",
              "      <script>\n",
              "        const buttonEl =\n",
              "          document.querySelector('#df-cd52eebc-d9a9-48eb-88e3-2a78ecd08b4b button.colab-df-convert');\n",
              "        buttonEl.style.display =\n",
              "          google.colab.kernel.accessAllowed ? 'block' : 'none';\n",
              "\n",
              "        async function convertToInteractive(key) {\n",
              "          const element = document.querySelector('#df-cd52eebc-d9a9-48eb-88e3-2a78ecd08b4b');\n",
              "          const dataTable =\n",
              "            await google.colab.kernel.invokeFunction('convertToInteractive',\n",
              "                                                     [key], {});\n",
              "          if (!dataTable) return;\n",
              "\n",
              "          const docLinkHtml = 'Like what you see? Visit the ' +\n",
              "            '<a target=\"_blank\" href=https://colab.research.google.com/notebooks/data_table.ipynb>data table notebook</a>'\n",
              "            + ' to learn more about interactive tables.';\n",
              "          element.innerHTML = '';\n",
              "          dataTable['output_type'] = 'display_data';\n",
              "          await google.colab.output.renderOutput(dataTable, element);\n",
              "          const docLink = document.createElement('div');\n",
              "          docLink.innerHTML = docLinkHtml;\n",
              "          element.appendChild(docLink);\n",
              "        }\n",
              "      </script>\n",
              "    </div>\n",
              "  </div>\n",
              "  "
            ]
          },
          "metadata": {}
        }
      ],
      "source": [
        "en_data = read_file(en_corpus_file, 'en')\n",
        "it_data = read_file(it_corpus_file, 'it')\n",
        "data = pd.concat([en_data, it_data], axis=\"columns\").sample(frac=0.1)\n",
        "display(data.head())"
      ]
    },
    {
      "cell_type": "markdown",
      "metadata": {
        "id": "LGszOULU8gth"
      },
      "source": [
        "## Task 1: Data exploration (10%)\n",
        "For this task you should extract some insights (i.e., some statistics and graphs) from the provided data.\n",
        "\n",
        "It could be the length differences between two languages and also the number of sentences in the\n",
        "whole corpus. Don’t limit yourself into these examples and try to find more insights in the data. Please\n",
        "highlight some of the most important findings in your report.\n",
        "\n",
        "Moreover, since the dataset is too large, randomly select 10% of data (data sampling) to train your\n",
        "models on in the next steps.\n",
        "\n",
        "Hint: if you faced codec errors in reading files, the “codecs” library could be used.\n",
        "\n",
        "Insights:\n",
        "- length in chars or in words (one or the other?)\n",
        "- length difference\n",
        "- number of sentences\n",
        "- vocabulary size\n",
        "- words common in both languages?"
      ]
    },
    {
      "cell_type": "markdown",
      "metadata": {
        "id": "iHR9boc_yjzV"
      },
      "source": [
        "## Length in chars"
      ]
    },
    {
      "cell_type": "code",
      "execution_count": 10,
      "metadata": {
        "colab": {
          "base_uri": "https://localhost:8080/",
          "height": 297
        },
        "id": "24HZDupB8mcf",
        "outputId": "def718a0-0df3-40bc-804c-cba0696f127b"
      },
      "outputs": [
        {
          "output_type": "display_data",
          "data": {
            "text/plain": [
              "<Figure size 864x288 with 2 Axes>"
            ],
            "image/png": "[encoded data removed]"
          },
          "metadata": {
            "needs_background": "light"
          }
        }
      ],
      "source": [
        "fig, axes = plt.subplots(2, figsize=(12,4))\n",
        "data['en'].str.len().plot(kind='hist', bins=200, range=[0, 1000], ax=axes[0], title='Length of english documents (in chars)', edgecolor='black')\n",
        "data['it'].str.len().plot(kind='hist', bins=200, range=[0, 1000], ax=axes[1], title='Length of italian documents (in chars)', edgecolor='black')\n",
        "plt.xlabel(\"Number of characters\")\n",
        "fig.tight_layout()\n",
        "plt.show()"
      ]
    },
    {
      "cell_type": "markdown",
      "metadata": {
        "id": "lkP1HeyTysJl"
      },
      "source": [
        "## Length in words"
      ]
    },
    {
      "cell_type": "code",
      "execution_count": 11,
      "metadata": {
        "colab": {
          "base_uri": "https://localhost:8080/",
          "height": 297
        },
        "id": "NkxirSOJ9KNW",
        "outputId": "51f34599-ab4d-4556-d5d6-bd969821c6d3"
      },
      "outputs": [
        {
          "output_type": "display_data",
          "data": {
            "text/plain": [
              "<Figure size 864x288 with 2 Axes>"
            ],
            "image/png": "[encoded data removed]"
          },
          "metadata": {
            "needs_background": "light"
          }
        }
      ],
      "source": [
        "fig, axes = plt.subplots(2, figsize=(12,4))\n",
        "data['en'].str.split().map(lambda x:len(x)).plot(kind='hist', bins=200, range=[0, 200], ax=axes[0], title='Length of english documents (in words)', edgecolor='black')\n",
        "data['it'].str.split().map(lambda x:len(x)).plot(kind='hist', bins=200, range=[0, 200], ax=axes[1], title='Length of italian documents (in words)', edgecolor='black')\n",
        "plt.xlabel(\"Number of words\")\n",
        "fig.tight_layout()\n",
        "plt.show()"
      ]
    },
    {
      "cell_type": "markdown",
      "metadata": {
        "id": "O-4vfz76yuqM"
      },
      "source": [
        "## Length difference"
      ]
    },
    {
      "cell_type": "code",
      "execution_count": 12,
      "metadata": {
        "colab": {
          "base_uri": "https://localhost:8080/",
          "height": 297
        },
        "id": "G_StuxHPAz-q",
        "outputId": "191cb9bb-4d90-45b3-f826-a25fd99a384a"
      },
      "outputs": [
        {
          "output_type": "display_data",
          "data": {
            "text/plain": [
              "<Figure size 864x288 with 2 Axes>"
            ],
            "image/png": "[encoded data removed]"
          },
          "metadata": {
            "needs_background": "light"
          }
        }
      ],
      "source": [
        "fig, axes = plt.subplots(2, figsize=(12,4))\n",
        "(data['en'].str.len()-data['it'].str.len()).plot(kind='hist', bins=200, range=[-200, 200], ax=axes[0], title='Document length difference in chars (english-italian)', edgecolor='black')\n",
        "(data['en'].str.split().map(lambda x:len(x))-data['it'].str.split().map(lambda x:len(x))).plot(kind='hist', bins=200, range=[-100, 100], ax=axes[1], title='Document length difference in words (english-italian)', edgecolor='black')\n",
        "fig.tight_layout()\n",
        "plt.show()"
      ]
    },
    {
      "cell_type": "markdown",
      "metadata": {
        "id": "jh5QQSR6EBN9"
      },
      "source": [
        "## Number of sentences"
      ]
    },
    {
      "cell_type": "code",
      "execution_count": 13,
      "metadata": {
        "id": "8qMMDMy5EAxf"
      },
      "outputs": [],
      "source": [
        "# split each cell into sentences \n",
        "tokenized_data_en = data['en'].map(lambda s: sent_tokenize(s)).copy()\n",
        "tokenized_data_it = data['it'].map(lambda s: sent_tokenize(s)).copy()\n",
        "nb_en_sentences = tokenized_data_en.map(lambda l: len(l)).sum()\n",
        "nb_it_sentences = tokenized_data_it.map(lambda l: len(l)).sum()"
      ]
    },
    {
      "cell_type": "code",
      "execution_count": 14,
      "metadata": {
        "colab": {
          "base_uri": "https://localhost:8080/",
          "height": 281
        },
        "id": "ddmI0bxjnqa8",
        "outputId": "1be3a79f-a341-4986-d145-4516e7c2d6a1"
      },
      "outputs": [
        {
          "output_type": "display_data",
          "data": {
            "text/plain": [
              "<Figure size 432x288 with 1 Axes>"
            ],
            "image/png": "[encoded data removed]"
          },
          "metadata": {
            "needs_background": "light"
          }
        }
      ],
      "source": [
        "labels = ['en', 'it']\n",
        "values = [nb_en_sentences, nb_it_sentences]\n",
        "\n",
        "# Plot the figure.\n",
        "fig, ax = plt.subplots()\n",
        "plt.bar(labels, values)\n",
        "ax.set_title(\"Number of sentences\")\n",
        "ax.set_ylabel(\"# sentence tokens\")\n",
        "ax.set_xticklabels(labels)\n",
        "\n",
        "rects = ax.patches\n",
        "\n",
        "for rect, value in zip(rects, values):\n",
        "    height = rect.get_height()\n",
        "    ax.text(\n",
        "        rect.get_x() + rect.get_width() / 2, height + 5, f'{value:,}', ha=\"center\", va=\"bottom\"\n",
        "    )\n",
        "\n",
        "plt.show()"
      ]
    },
    {
      "cell_type": "markdown",
      "metadata": {
        "id": "UzJZWFSWzNUk"
      },
      "source": [
        "## Vocabulary size"
      ]
    },
    {
      "cell_type": "code",
      "execution_count": 15,
      "metadata": {
        "id": "zpHROXo-zPjs"
      },
      "outputs": [],
      "source": [
        "def wordCount(data):\n",
        "  word_counter = Counter()\n",
        "  tokenized_data = data.map(lambda s: word_tokenize(s.lower())).copy()\n",
        "  tokenized_data.apply(word_counter.update)\n",
        "  return word_counter\n",
        "\n",
        "en_vocab = set(wordCount(data['en']).keys())\n",
        "it_vocab = set(wordCount(data['it']).keys())"
      ]
    },
    {
      "cell_type": "code",
      "execution_count": 16,
      "metadata": {
        "colab": {
          "base_uri": "https://localhost:8080/",
          "height": 281
        },
        "id": "Jmu9qTm4kn1q",
        "outputId": "e547c023-f30e-484b-c0b6-4404c24cd113"
      },
      "outputs": [
        {
          "output_type": "display_data",
          "data": {
            "text/plain": [
              "<Figure size 432x288 with 1 Axes>"
            ],
            "image/png": "[encoded data removed]"
          },
          "metadata": {
            "needs_background": "light"
          }
        }
      ],
      "source": [
        "labels = ['en', 'it']\n",
        "values = [len(en_vocab), len(it_vocab)]\n",
        "\n",
        "# Plot the figure.\n",
        "fig, ax = plt.subplots()\n",
        "plt.bar(labels, values)\n",
        "ax.set_title(\"Vocabulary Size\")\n",
        "ax.set_ylabel(\"# tokens\")\n",
        "ax.set_xticklabels(labels)\n",
        "\n",
        "rects = ax.patches\n",
        "\n",
        "for rect, value in zip(rects, values):\n",
        "    height = rect.get_height()\n",
        "    ax.text(\n",
        "        rect.get_x() + rect.get_width() / 2, height + 5, f'{value:,}', ha=\"center\", va=\"bottom\"\n",
        "    )\n",
        "\n",
        "plt.show()"
      ]
    },
    {
      "cell_type": "markdown",
      "metadata": {
        "id": "HYjIVTHO88nJ"
      },
      "source": [
        "## Task 2: Pre-processing (15%)\n",
        "In this task, first, apply all the necessary pre-processing steps that you think they would help to better prepare your data for the next steps. You don’t have to apply all the pre-processing tasks which are\n",
        "covered in the course. Regarding the report, you should briefly mention it in your report that why you\n",
        "decided to apply the chosen pre-processing steps (and why not the others).\n",
        "\n",
        "Among all the pre-processing tasks, the following are recommended:\n",
        "\n",
        "- lowercase the text\n",
        "\n",
        "- strip empty lines and their correspondences\n",
        "\n",
        "- remove lines with XML-Tags (starting with \"<\")\n",
        "\n",
        "=> note: there are no lines starting with \"<\", but there are lines containing: >some words= , is this what is meant here?\n",
        "\n",
        "our ideas:\n",
        "- seperate punctuation/special characters from words (Hello! --> Hello !) => word_tokenize does this actually\n",
        "- undo compact forms (ex: I'm --> I am)\n",
        "- remove special characters < and =\n",
        "- many sentences contain the legal report number ex: (A5-0052/1999) -> remove substrings of format: '\\([A-Z][0-9]-[0-9]{4}\\/[0-9]{4}\\)'\n",
        "- many sentences start with for ex: - (SV) or . (PT) -> remove substrings of format: '- \\([A-Z][A-Z]\\)' and '. \\([A-Z][A-Z]\\)'\n",
        "- any pre processing specific to Italian?"
      ]
    },
    {
      "cell_type": "code",
      "execution_count": 17,
      "metadata": {
        "id": "ove4R5ov9WyH"
      },
      "outputs": [],
      "source": [
        "\n",
        "\n",
        "# \"^[^a-zA-Z]*$\" --- any sentence not containing letters\n",
        "\n",
        "def removeLegals(text):\n",
        "  text = re.sub(pattern=r'\\([A-Z][0-9]-[0-9]{4}\\/[0-9]{2,4}\\)', repl='', string=text)\n",
        "  text = re.sub(pattern=r'(. )?\\([A-Z]{2}\\)', repl='', string=text)\n",
        "  return text\n",
        "\n",
        "def prep(text):\n",
        "  special_chars = ['>', '=']\n",
        "  text = removeLegals(text)                                     # remove substrings related to legal reports\n",
        "  text = text.translate({ord(c): \" \" for c in special_chars})   # remove special characters\n",
        "  text = text.lower()                                           # lower case\n",
        "  text = contractions.fix(text)                                 # undo contractions\n",
        "  tokens = word_tokenize(text)                                  # tokenize: seperates punctuation from words\n",
        "  return tokens\n",
        "\n",
        "def preprocess(data):\n",
        "  prep_data = data.replace('\\n', np.nan).dropna() # strip empty lines\n",
        "  prep_data['en'] = prep_data['en'].map(lambda t: prep(t)).copy()\n",
        "  prep_data['it'] = prep_data['it'].map(lambda t: prep(t)).copy()\n",
        "  return prep_data, prep_data['en'].tolist(), prep_data['it'].tolist()"
      ]
    },
    {
      "cell_type": "code",
      "execution_count": 18,
      "metadata": {
        "id": "FMLR2u6Y9rcP"
      },
      "outputs": [],
      "source": [
        "en_it_df, en_sent_list, it_sent_list = preprocess(data)\n",
        "\n",
        "# append \"start of sentence\" and \"end of sentence\" tokens so that the embedding algorithms learn an embedding for these tokens\n",
        "en_sent_list.append(['<SOS>'])\n",
        "en_sent_list.append(['<EOS>'])\n",
        "it_sent_list.append(['<SOS>'])\n",
        "it_sent_list.append(['<EOS>'])"
      ]
    },
    {
      "cell_type": "code",
      "execution_count": 19,
      "metadata": {
        "colab": {
          "base_uri": "https://localhost:8080/"
        },
        "id": "VkwncBsNkw1N",
        "outputId": "f41588d9-852c-4dcf-cb40-b6bb1c9376c2"
      },
      "outputs": [
        {
          "output_type": "stream",
          "name": "stdout",
          "text": [
            "['question', 'no', '4', 'by', 'felipe', 'camisón', 'asensio', '(', 'h-0393/98', ')']\n",
            "['annuncio', \"l'interrogazione\", 'n.', '4', ',', \"dell'onorevole\", 'felipe', 'camisón', 'asensio', '(', 'h-0393/98', ')', ':']\n"
          ]
        }
      ],
      "source": [
        "print(en_sent_list[0])\n",
        "print(it_sent_list[0])"
      ]
    },
    {
      "cell_type": "markdown",
      "metadata": {
        "id": "rrDDaEJd9eND"
      },
      "source": [
        "## Task 3: Neural Machine Translation (45%)\n",
        "In this task you should do the following sub-tasks. Choose two evaluation metrics and report your\n",
        "results using these two metrics.\n",
        "\n",
        "- Split data into train, validation and test sets. Use 20% of data as the test set.\n",
        "\n",
        "- Develop an RNN based sequence to sequence model (encoder-decoder) to translate English\n",
        "input into Italian text.\n",
        "\n",
        "  - In your report describe your reasons for choosing the architecture that you are using\n",
        "for the task\n",
        "\n",
        "  - Track the impact of different embedding models (e.g., Glove, Word2Vec and …) on\n",
        "the performance of your model.\n",
        "\n",
        "  - Interpret the results of your model in the report. Does the length of text impact on\n",
        "the performance of the model? What characteristic of sentences led to better\n",
        "translation by the model?\n",
        "\n",
        "- Change your input and target languages (Translate from Italian to English) and train your mode again. Compare the results in this step with the results from the previous step where English\n",
        "was the input language.\n",
        "\n",
        "- Develop a character-based model that train to translate characters into the target language. Compare the results by this model with the achieved results from the word-based models before.\n",
        "\n",
        "Please report all the achieved results with either models in your report document. Moreover, describe\n",
        "the hyper-parameters of your neural network model in the report."
      ]
    },
    {
      "cell_type": "markdown",
      "metadata": {
        "id": "bbN6BVnI9XvJ"
      },
      "source": [
        "### Embeddings\n",
        "- Glove\n",
        "- Word2Vec\n",
        "  - with CBOW\n",
        "  - with skip-gram"
      ]
    },
    {
      "cell_type": "code",
      "execution_count": 20,
      "metadata": {
        "id": "afHQnX2DfkHA"
      },
      "outputs": [],
      "source": [
        "VECTOR_SIZE = 32"
      ]
    },
    {
      "cell_type": "markdown",
      "metadata": {
        "id": "vVfnqGXbhAnq"
      },
      "source": [
        "#### Word2Vec (skip-gram)"
      ]
    },
    {
      "cell_type": "code",
      "execution_count": 36,
      "metadata": {
        "id": "Iq017mw291LF"
      },
      "outputs": [],
      "source": [
        "cores = multiprocessing.cpu_count()\n",
        "\n",
        "# Training english word2vec (skip-gram) model\n",
        "w2v_sg_en_model = Word2Vec(min_count=1, \n",
        "                           window=2, \n",
        "                           size=VECTOR_SIZE, \n",
        "                           sg=1, \n",
        "                           workers=cores-1)\n",
        "w2v_sg_en_model.build_vocab(en_sent_list)\n",
        "w2v_sg_en_model.train(en_sent_list, total_examples=w2v_sg_en_model.corpus_count, epochs=10, report_delay=1)\n",
        "\n",
        "# Training italian word2vec (skip-gram) model\n",
        "w2v_sg_it_model = Word2Vec(min_count=1, \n",
        "                           window=2, \n",
        "                           size=VECTOR_SIZE, \n",
        "                           sg=1, \n",
        "                           workers=cores-1)\n",
        "w2v_sg_it_model.build_vocab(it_sent_list)\n",
        "w2v_sg_it_model.train(it_sent_list, total_examples=w2v_sg_it_model.corpus_count, epochs=10, report_delay=1)\n",
        "\n",
        "w2v_sg_en_model.save(str(checkpoint_dir/\"w2v_sg_en_model\"))\n",
        "w2v_sg_it_model.save(str(checkpoint_dir/\"w2v_sg_it_model\"))"
      ]
    },
    {
      "cell_type": "code",
      "source": [
        ""
      ],
      "metadata": {
        "colab": {
          "base_uri": "https://localhost:8080/"
        },
        "id": "wJvmb5opgl8q",
        "outputId": "346fa3d5-ff3d-4825-db01-33070ed84b76"
      },
      "execution_count": 28,
      "outputs": [
        {
          "output_type": "execute_result",
          "data": {
            "text/plain": [
              "pathlib.PosixPath"
            ]
          },
          "metadata": {},
          "execution_count": 28
        }
      ]
    },
    {
      "cell_type": "markdown",
      "metadata": {
        "id": "4SuzsSWBhIS6"
      },
      "source": [
        "#### Word2Vec (CBOW)"
      ]
    },
    {
      "cell_type": "code",
      "execution_count": null,
      "metadata": {
        "id": "UZMLcdg3TtPY"
      },
      "outputs": [],
      "source": [
        "# TODO\n",
        "\n",
        "# project_dir + 'w2v_sg_en_model'"
      ]
    },
    {
      "cell_type": "markdown",
      "metadata": {
        "id": "OKZEWpcMhNZB"
      },
      "source": [
        "#### Glove"
      ]
    },
    {
      "cell_type": "code",
      "execution_count": null,
      "metadata": {
        "id": "lflorAaNhU8s"
      },
      "outputs": [],
      "source": [
        "# TODO"
      ]
    },
    {
      "cell_type": "markdown",
      "metadata": {
        "id": "4p2Iso1iUR6O"
      },
      "source": [
        "### Split data"
      ]
    },
    {
      "cell_type": "code",
      "execution_count": null,
      "metadata": {
        "id": "Ord9s1iVUY6L"
      },
      "outputs": [],
      "source": [
        "x_train, x_test, y_train, y_test = train_test_split(en_sent_list, it_sent_list, test_size=0.2, random_state=1)\n",
        "x_train, x_val, y_train, y_val = train_test_split(x_train, y_train, test_size=0.125, random_state=1)\n",
        "\n",
        "print(\"Data split: \")\n",
        "print(f'train: {len(x_train)/len(en_it_df) * 100} % \\ntest: {len(x_test)/len(en_it_df)*100} % \\nval: {len(x_val)/len(en_it_df)*100} % \\n ')"
      ]
    },
    {
      "cell_type": "markdown",
      "metadata": {
        "id": "MU4DdxniGcrb"
      },
      "source": [
        "### Dataset Class\n"
      ]
    },
    {
      "cell_type": "code",
      "execution_count": null,
      "metadata": {
        "id": "FkQOvFuNGe3t"
      },
      "outputs": [],
      "source": [
        "class LanguagePairDataset(Dataset):\n",
        "    def __init__(self, language_A, language_B):\n",
        "        self.language_A = language_A\n",
        "        self.language_B = language_B\n",
        "\n",
        "    def __len__(self):\n",
        "      if len(self.language_A) != len(self.language_B):\n",
        "        raise ValueError('Number of documents in language A is different to language B.')\n",
        "      else:\n",
        "        return len(self.language_A)\n",
        "\n",
        "    def __getitem__(self, idx):\n",
        "      self.language_A[idx].append('<EOS>')\n",
        "      self.language_B[idx].append('<EOS>')\n",
        "      return (self.language_A[idx], self.language_B[idx])"
      ]
    },
    {
      "cell_type": "markdown",
      "metadata": {
        "id": "L2RPWuoVgCXp"
      },
      "source": [
        "#### Collate Functions"
      ]
    },
    {
      "cell_type": "code",
      "execution_count": null,
      "metadata": {
        "id": "4g7JSCtrMaYg"
      },
      "outputs": [],
      "source": [
        "\n",
        "# collate_fn for w2v sg dataloader\n",
        "def w2v_sg_en_it_collate(batch):\n",
        "  lang_A_embedding_model = Word2Vec.load(str(checkpoint_dir/\"w2v_sg_en_model\"))\n",
        "  lang_B_embedding_model = Word2Vec.load(str(checkpoint_dir/\"w2v_sg_it_model\"))\n",
        "  lang_A_embeddings, lang_B_embeddings = [], []\n",
        "  for (lang_A_sentence, lang_B_sentence) in batch:\n",
        "    lang_A_embeddings.append(torch.FloatTensor(sent_embed(lang_A_sentence, lang_A_embedding_model)))\n",
        "    lang_B_embeddings.append(torch.FloatTensor(sent_embed(lang_B_sentence, lang_B_embedding_model)))\n",
        "  return pad_sequence(lang_A_embeddings, batch_first=True), pad_sequence(lang_B_embeddings, batch_first=True)\n",
        "\n",
        "def sent_embed(sentence, model):\n",
        "  embedding = []\n",
        "  for w in sentence:\n",
        "    embedding.append(model.wv[w])\n",
        "  return embedding\n",
        "\n",
        "# TODO collate function for other embeddings"
      ]
    },
    {
      "cell_type": "markdown",
      "metadata": {
        "id": "Cg5IquK9gf63"
      },
      "source": [
        "#### Data Loaders"
      ]
    },
    {
      "cell_type": "code",
      "execution_count": null,
      "metadata": {
        "id": "SXTulR-pMjs7"
      },
      "outputs": [],
      "source": [
        "BATCH_SIZE = 256\n",
        "# Train, test and val dataloaders with w2v embedding (skip-gram)\n",
        "train_dataset_w2v_sg = LanguagePairDataset(x_train, y_train)\n",
        "train_dataloader_w2v_sg = DataLoader(train_dataset_w2v_sg, batch_size=BATCH_SIZE, collate_fn=w2v_sg_en_it_collate, shuffle=True)\n",
        "\n",
        "test_dataset_w2v_sg = LanguagePairDataset(x_test, y_test)\n",
        "test_dataloader_w2v_sg = DataLoader(test_dataset_w2v_sg, batch_size=BATCH_SIZE, collate_fn=w2v_sg_en_it_collate, shuffle=True)\n",
        "\n",
        "val_dataset_w2v_sg = LanguagePairDataset(x_val, y_val)\n",
        "val_dataloader_w2v_sg = DataLoader(val_dataset_w2v_sg, batch_size=BATCH_SIZE, collate_fn=w2v_sg_en_it_collate, shuffle=True)\n",
        "\n",
        "# TODO: dataloaders for other embeddings"
      ]
    },
    {
      "cell_type": "markdown",
      "metadata": {
        "id": "IgjC2HLH9aoW"
      },
      "source": [
        "### Model"
      ]
    },
    {
      "cell_type": "code",
      "execution_count": null,
      "metadata": {
        "id": "azhQ7W_t9eK9"
      },
      "outputs": [],
      "source": [
        "class Encoder(nn.Module):\n",
        "  def __init__(self, input_size, hidden_size, num_layers=1):\n",
        "    super(Encoder, self).__init__()\n",
        "    self.input_size = input_size\n",
        "    self.hidden_size = hidden_size\n",
        "    self.num_layers = num_layers\n",
        "    self.rnn = nn.RNN(input_size, hidden_size, num_layers, batch_first=True)\n",
        "\n",
        "  def forward(self, x, device):\n",
        "    h = self.initHidden(x.size()[0])\n",
        "    _, h_n = self.rnn(x, h)\n",
        "    return h_n\n",
        "\n",
        "  def initHidden(self, batch_size):\n",
        "    return torch.zeros(self.num_layers, batch_size, self.hidden_size).to(device)\n",
        "\n",
        "class Decoder(nn.Module):\n",
        "  def __init__(self, input_size, hidden_size, output_size, num_layers=1):\n",
        "    super(Decoder, self).__init__()\n",
        "    self.input_size = input_size\n",
        "    self.hidden_size = hidden_size\n",
        "    self.output_size = output_size\n",
        "    self.num_layers = num_layers\n",
        "    self.rnn = nn.RNN(input_size, hidden_size, num_layers, batch_first=True)\n",
        "    self.linear = nn.Linear(hidden_size, output_size)\n",
        "\n",
        "  def forward(self, x, h, target):\n",
        "    batch_size = target.size()[0]\n",
        "    sent_length = target.size()[1]\n",
        "    outputs = torch.zeros(sent_length, batch_size, self.output_size).to(device)\n",
        "    for t in range(target.size()[1]):\n",
        "      o, h = self.rnn(x, h)\n",
        "      x = self.linear(o)\n",
        "      outputs[t] = x.view(1, batch_size, -1)\n",
        "    \n",
        "    return outputs.view(batch_size, sent_length, self.output_size)"
      ]
    },
    {
      "cell_type": "code",
      "execution_count": null,
      "metadata": {
        "id": "hE-soVHEOUDr"
      },
      "outputs": [],
      "source": [
        "device = torch.device('cuda' if torch.cuda.is_available() else 'cpu')\n",
        "print(device)"
      ]
    },
    {
      "cell_type": "markdown",
      "metadata": {
        "id": "Rwkq-rCD9era"
      },
      "source": [
        "### Train Function"
      ]
    },
    {
      "cell_type": "code",
      "execution_count": null,
      "metadata": {
        "id": "udtQ6-fP9mr-"
      },
      "outputs": [],
      "source": [
        "def train(train_dataloader,\n",
        "          val_dataloader,\n",
        "          encoder, \n",
        "          decoder, \n",
        "          criterion, \n",
        "          encoder_opt, \n",
        "          decoder_opt,\n",
        "          language_B_embedding_model,\n",
        "          epochs = 10):\n",
        "\n",
        "  for e in range(epochs):\n",
        "    print(\"Epoch: \", e)\n",
        "    acc_loss = 0\n",
        "    last_val_loss = 1e5 # big number\n",
        "    for batch_nb, train_data in enumerate(train_dataloader):\n",
        "      # set gradients to zero\n",
        "      encoder_opt.zero_grad()\n",
        "      decoder_opt.zero_grad()\n",
        "      \n",
        "      # get batch from data loader\n",
        "      batch_lang_A, batch_lang_B = train_data[0].to(device), train_data[1].to(device)\n",
        "      batch_size = batch_lang_A.size()[0]\n",
        "      \n",
        "      # encode batch\n",
        "      encoder_h = encoder(batch_lang_A, device)\n",
        "      \n",
        "      # prepare decoder inputs\n",
        "      sos_token = torch.FloatTensor(language_B_embedding_model.wv['<SOS>'])     \n",
        "      decoder_in = sos_token.repeat(batch_size, 1).view(batch_size, 1, -1).to(device)\n",
        "      decoder_h = encoder_h\n",
        "\n",
        "      #decoder batch\n",
        "      decoder_o = decoder(decoder_in, decoder_h, batch_lang_B)\n",
        "\n",
        "      # compute and print loss\n",
        "      loss = criterion(decoder_o, batch_lang_B)\n",
        "      acc_loss += loss\n",
        "      if batch_nb%100==0 and batch_nb > 0:\n",
        "        print(f'average loss after {batch_nb} batches: {acc_loss/batch_nb}')\n",
        "      \n",
        "      # backpropagation\n",
        "      loss.backward()\n",
        "      encoder_opt.step()\n",
        "      decoder_opt.step()\n",
        "    \n",
        "    # validation loss\n",
        "    val_loss = validation_loss(val_dataloader, encoder, decoder, criterion, sos_token)\n",
        "    if val_loss < last_val_loss:\n",
        "      last_val_loss = val_loss\n",
        "      torch.save(encoder.state_dict(), checkpoint_dir/'encoder.dict')\n",
        "      torch.save(decoder.state_dict(), checkpoint_dir/'decoder.dict')\n",
        "    print(f'End of epoch {e} \\|  loss:{loss}                \\|  val_loss:{val_loss}')"
      ]
    },
    {
      "cell_type": "code",
      "source": [
        "def validation_loss(val_dataloader, encoder, decoder, criterion, sos_token):\n",
        "  val_acc_loss = 0\n",
        "  with torch.no_grad():\n",
        "    for batch_nb, val_data in enumerate(val_dataloader):\n",
        "        # get batch from data loader\n",
        "        batch_lang_A, batch_lang_B = val_data[0].to(device), val_data[1].to(device)\n",
        "        batch_size = batch_lang_A.size()[0]\n",
        "        \n",
        "        # encode batch\n",
        "        encoder_h = encoder(batch_lang_A, device)\n",
        "        \n",
        "        # prepare decoder inputs       \n",
        "        decoder_in = sos_token.repeat(batch_size, 1).view(batch_size, 1, -1).to(device)\n",
        "        decoder_h = encoder_h\n",
        "\n",
        "        #decoder batch\n",
        "        decoder_o = decoder(decoder_in, decoder_h, batch_lang_B)\n",
        "\n",
        "        # compute and print loss\n",
        "        loss = criterion(decoder_o, batch_lang_B)\n",
        "        val_acc_loss += loss\n",
        "  return val_acc_loss/batch_nb"
      ],
      "metadata": {
        "id": "LpW16hnehZvW"
      },
      "execution_count": null,
      "outputs": []
    },
    {
      "cell_type": "code",
      "execution_count": null,
      "metadata": {
        "id": "hA-oLnMMYA7H"
      },
      "outputs": [],
      "source": [
        "# Hyper Parameters\n",
        "input_size = VECTOR_SIZE\n",
        "target_size = VECTOR_SIZE\n",
        "hidden_size = 512\n",
        "\n",
        "# Model set-up\n",
        "encoder = Encoder(input_size, hidden_size).to(device)\n",
        "decoder = Decoder(input_size, hidden_size, target_size).to(device)\n",
        "\n",
        "encoder_opt = optim.Adam(encoder.parameters())\n",
        "decoder_opt = optim.Adam(decoder.parameters())\n",
        "\n",
        "criterion = nn.MSELoss()\n",
        "\n",
        "lang_B_embed_model = Word2Vec.load(str(checkpoint_dir/\"w2v_sg_it_model\"))\n",
        "\n",
        "# Train\n",
        "train(train_dataloader_w2v_sg, \n",
        "      val_dataloader_w2v_sg, \n",
        "      encoder, \n",
        "      decoder, \n",
        "      criterion, \n",
        "      encoder_opt, \n",
        "      decoder_opt, \n",
        "      lang_B_embed_model)"
      ]
    },
    {
      "cell_type": "code",
      "source": [
        "encoder.load_state_dict(torch.load('encoder.dict'))\n",
        "decoder.load_state_dict(torch.load('decoder.dict'))"
      ],
      "metadata": {
        "id": "v8t0jZzO2h5N"
      },
      "execution_count": null,
      "outputs": []
    },
    {
      "cell_type": "markdown",
      "metadata": {
        "id": "FElBV7CS9qwu"
      },
      "source": [
        "### Evaluation"
      ]
    },
    {
      "cell_type": "code",
      "execution_count": null,
      "metadata": {
        "id": "CmYNsFXx9qdN"
      },
      "outputs": [],
      "source": [
        ""
      ]
    },
    {
      "cell_type": "markdown",
      "metadata": {
        "id": "T0Kbnhcf-Tjw"
      },
      "source": [
        "## Task 4: Neural Machine Translation with Attention (30%)\n",
        "In this task, improve your models from the last step by using the attention mechanism in your model. Compare the achieved results with and without attention mechanism in your report. Also visualize the attention weights for a sample instance and highlight it in your report."
      ]
    },
    {
      "cell_type": "code",
      "execution_count": null,
      "metadata": {
        "id": "tq2vCGZB-WLq"
      },
      "outputs": [],
      "source": [
        ""
      ]
    },
    {
      "cell_type": "markdown",
      "metadata": {
        "id": "6QP0rW0x-cu0"
      },
      "source": [
        "## Bonus Task: Pivot Translation (+30%)\n",
        "A pivot language, sometimes also called a bridge language, is an artificial or natural language used as an intermediary language for translation between many different languages – to translate between any pair of languages A and B, one translates A to the pivot language P, then from P to B. For this task, you should develop a neural machine translation model for translating Italian to Swedish, using English as the pivot language. You can download the Swedish-English parallel corpus from here."
      ]
    },
    {
      "cell_type": "code",
      "execution_count": null,
      "metadata": {
        "id": "oyaOb3kW-hxQ"
      },
      "outputs": [],
      "source": [
        ""
      ]
    }
  ],
  "metadata": {
    "accelerator": "GPU",
    "colab": {
      "collapsed_sections": [],
      "name": "NLP-project-2.ipynb",
      "provenance": []
    },
    "gpuClass": "standard",
    "kernelspec": {
      "display_name": "Python 3",
      "name": "python3"
    },
    "language_info": {
      "name": "python"
    }
  },
  "nbformat": 4,
  "nbformat_minor": 0
}